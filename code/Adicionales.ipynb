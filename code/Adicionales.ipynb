{
  "nbformat": 4,
  "nbformat_minor": 0,
  "metadata": {
    "accelerator": "TPU",
    "colab": {
      "name": "Adicionales.ipynb",
      "provenance": [],
      "collapsed_sections": []
    },
    "kernelspec": {
      "display_name": "Python 3",
      "name": "python3"
    },
    "language_info": {
      "name": "python"
    }
  },
  "cells": [
    {
      "cell_type": "markdown",
      "metadata": {
        "id": "SpxbIQjWtVRZ"
      },
      "source": [
        "## ¿Es factible predecir el número de “Vistas” o “Me gusta” o “No me gusta”?\n"
      ]
    },
    {
      "cell_type": "code",
      "metadata": {
        "id": "mWrHvyOnrnzt"
      },
      "source": [
        "import numpy as np\n",
        "import pandas as pd\n",
        "import seaborn as sns\n",
        "import matplotlib.pyplot as plt\n",
        "import json\n",
        "%matplotlib inline"
      ],
      "execution_count": 14,
      "outputs": []
    },
    {
      "cell_type": "code",
      "metadata": {
        "id": "utrFl9DbtSDf"
      },
      "source": [
        "Frvids = pd.read_csv('FRvideos_Clean.csv')\n",
        "Frvids = Frvids.drop(columns=['Unnamed: 0'])"
      ],
      "execution_count": 15,
      "outputs": []
    },
    {
      "cell_type": "code",
      "metadata": {
        "id": "ClLJI7WNtUpH",
        "colab": {
          "base_uri": "https://localhost:8080/",
          "height": 1000
        },
        "outputId": "3304500e-15c5-4e73-882f-983d17822928"
      },
      "source": [
        "Frvids.loc[Frvids['likes']==0]"
      ],
      "execution_count": 16,
      "outputs": [
        {
          "output_type": "execute_result",
          "data": {
            "text/html": [
              "<div>\n",
              "<style scoped>\n",
              "    .dataframe tbody tr th:only-of-type {\n",
              "        vertical-align: middle;\n",
              "    }\n",
              "\n",
              "    .dataframe tbody tr th {\n",
              "        vertical-align: top;\n",
              "    }\n",
              "\n",
              "    .dataframe thead th {\n",
              "        text-align: right;\n",
              "    }\n",
              "</style>\n",
              "<table border=\"1\" class=\"dataframe\">\n",
              "  <thead>\n",
              "    <tr style=\"text-align: right;\">\n",
              "      <th></th>\n",
              "      <th>video_id</th>\n",
              "      <th>trending_date</th>\n",
              "      <th>title</th>\n",
              "      <th>channel_title</th>\n",
              "      <th>category_id</th>\n",
              "      <th>publish_time</th>\n",
              "      <th>tags</th>\n",
              "      <th>views</th>\n",
              "      <th>likes</th>\n",
              "      <th>dislikes</th>\n",
              "      <th>comment_count</th>\n",
              "      <th>thumbnail_link</th>\n",
              "      <th>comments_disabled</th>\n",
              "      <th>ratings_disabled</th>\n",
              "      <th>video_error_or_removed</th>\n",
              "      <th>description</th>\n",
              "      <th>state</th>\n",
              "      <th>lat</th>\n",
              "      <th>lon</th>\n",
              "      <th>geometry</th>\n",
              "      <th>category_title</th>\n",
              "    </tr>\n",
              "  </thead>\n",
              "  <tbody>\n",
              "    <tr>\n",
              "      <th>8</th>\n",
              "      <td>LhjhGOBIoHM</td>\n",
              "      <td>2017-11-14</td>\n",
              "      <td>Jérémy Ferrari - On n'est pas couché 11 novemb...</td>\n",
              "      <td>On n'est pas couché</td>\n",
              "      <td>24</td>\n",
              "      <td>2017-12-11</td>\n",
              "      <td>onpc\"|\"on n'est pas couche\"|\"laurent ruquier\"|...</td>\n",
              "      <td>294065</td>\n",
              "      <td>0</td>\n",
              "      <td>0</td>\n",
              "      <td>0</td>\n",
              "      <td>https://i.ytimg.com/vi/LhjhGOBIoHM/default.jpg</td>\n",
              "      <td>True</td>\n",
              "      <td>True</td>\n",
              "      <td>False</td>\n",
              "      <td>Jérémy Ferrari - On n'est pas couché 11 novemb...</td>\n",
              "      <td>Pays De La Loire</td>\n",
              "      <td>47.480008</td>\n",
              "      <td>-0.530030</td>\n",
              "      <td>POINT (-0.530029949 47.48000755)</td>\n",
              "      <td>Entertainment</td>\n",
              "    </tr>\n",
              "    <tr>\n",
              "      <th>98</th>\n",
              "      <td>MhDbAS6EQQ0</td>\n",
              "      <td>2017-11-14</td>\n",
              "      <td>Extrait d'un match entre les U15 féminines de ...</td>\n",
              "      <td>Jeremy LAUGIER</td>\n",
              "      <td>22</td>\n",
              "      <td>2017-11-11</td>\n",
              "      <td>[none]</td>\n",
              "      <td>2100</td>\n",
              "      <td>0</td>\n",
              "      <td>0</td>\n",
              "      <td>0</td>\n",
              "      <td>https://i.ytimg.com/vi/MhDbAS6EQQ0/default.jpg</td>\n",
              "      <td>False</td>\n",
              "      <td>False</td>\n",
              "      <td>False</td>\n",
              "      <td>Les U15 de l'AS Buers Villeurbanne égalisent s...</td>\n",
              "      <td>Auvergne</td>\n",
              "      <td>45.779982</td>\n",
              "      <td>3.080008</td>\n",
              "      <td>POINT (3.080008096 45.77998212)</td>\n",
              "      <td>People &amp; Blogs</td>\n",
              "    </tr>\n",
              "    <tr>\n",
              "      <th>236</th>\n",
              "      <td>IxSMSUYyZqk</td>\n",
              "      <td>2017-11-15</td>\n",
              "      <td>Barakah Feat El Primo - Jurassic Trap</td>\n",
              "      <td>VLA Barakah</td>\n",
              "      <td>10</td>\n",
              "      <td>2017-11-13</td>\n",
              "      <td>rap\"|\"rapfrancais\"|\"hip hop\"|\"barakah\"|\"rhoff\"...</td>\n",
              "      <td>5123</td>\n",
              "      <td>0</td>\n",
              "      <td>0</td>\n",
              "      <td>24</td>\n",
              "      <td>https://i.ytimg.com/vi/IxSMSUYyZqk/default.jpg</td>\n",
              "      <td>False</td>\n",
              "      <td>True</td>\n",
              "      <td>False</td>\n",
              "      <td>Facebook  Barakah : https://www.facebook.com/V...</td>\n",
              "      <td>Amapa</td>\n",
              "      <td>3.910471</td>\n",
              "      <td>-51.810001</td>\n",
              "      <td>POINT (-51.81000065 3.9104706)</td>\n",
              "      <td>Music</td>\n",
              "    </tr>\n",
              "    <tr>\n",
              "      <th>240</th>\n",
              "      <td>LhjhGOBIoHM</td>\n",
              "      <td>2017-11-15</td>\n",
              "      <td>Jérémy Ferrari - On n'est pas couché 11 novemb...</td>\n",
              "      <td>On n'est pas couché</td>\n",
              "      <td>24</td>\n",
              "      <td>2017-12-11</td>\n",
              "      <td>onpc\"|\"on n'est pas couche\"|\"laurent ruquier\"|...</td>\n",
              "      <td>331092</td>\n",
              "      <td>0</td>\n",
              "      <td>0</td>\n",
              "      <td>0</td>\n",
              "      <td>https://i.ytimg.com/vi/LhjhGOBIoHM/default.jpg</td>\n",
              "      <td>True</td>\n",
              "      <td>True</td>\n",
              "      <td>False</td>\n",
              "      <td>Jérémy Ferrari - On n'est pas couché 11 novemb...</td>\n",
              "      <td>Champagne Ardenne</td>\n",
              "      <td>48.340394</td>\n",
              "      <td>4.083358</td>\n",
              "      <td>POINT (4.083357705 48.34039431)</td>\n",
              "      <td>Entertainment</td>\n",
              "    </tr>\n",
              "    <tr>\n",
              "      <th>256</th>\n",
              "      <td>dK4BI6l-ScE</td>\n",
              "      <td>2017-11-15</td>\n",
              "      <td>Marché de Noël : Audience au Tribunal Administ...</td>\n",
              "      <td>CLNEWS</td>\n",
              "      <td>25</td>\n",
              "      <td>2017-11-14</td>\n",
              "      <td>CLNEWS clement Lanot\"|\"news\"|\"actu\"|\"france</td>\n",
              "      <td>2707</td>\n",
              "      <td>0</td>\n",
              "      <td>0</td>\n",
              "      <td>0</td>\n",
              "      <td>https://i.ytimg.com/vi/dK4BI6l-ScE/default.jpg</td>\n",
              "      <td>True</td>\n",
              "      <td>True</td>\n",
              "      <td>False</td>\n",
              "      <td>TOUT USAGE COMMERCIAL OU NON COMMERCIAL STRICT...</td>\n",
              "      <td>Rhone Alpes</td>\n",
              "      <td>45.899975</td>\n",
              "      <td>6.116670</td>\n",
              "      <td>POINT (6.116670287 45.89997479)</td>\n",
              "      <td>News &amp; Politics</td>\n",
              "    </tr>\n",
              "    <tr>\n",
              "      <th>...</th>\n",
              "      <td>...</td>\n",
              "      <td>...</td>\n",
              "      <td>...</td>\n",
              "      <td>...</td>\n",
              "      <td>...</td>\n",
              "      <td>...</td>\n",
              "      <td>...</td>\n",
              "      <td>...</td>\n",
              "      <td>...</td>\n",
              "      <td>...</td>\n",
              "      <td>...</td>\n",
              "      <td>...</td>\n",
              "      <td>...</td>\n",
              "      <td>...</td>\n",
              "      <td>...</td>\n",
              "      <td>...</td>\n",
              "      <td>...</td>\n",
              "      <td>...</td>\n",
              "      <td>...</td>\n",
              "      <td>...</td>\n",
              "      <td>...</td>\n",
              "    </tr>\n",
              "    <tr>\n",
              "      <th>35177</th>\n",
              "      <td>1cXwHfPiLss</td>\n",
              "      <td>2018-11-06</td>\n",
              "      <td>Brasil 3 x 0 Áustria - Gols &amp; Melhores Momento...</td>\n",
              "      <td>Lances Futebol</td>\n",
              "      <td>17</td>\n",
              "      <td>2018-10-06</td>\n",
              "      <td>[none]</td>\n",
              "      <td>704540</td>\n",
              "      <td>0</td>\n",
              "      <td>0</td>\n",
              "      <td>1538</td>\n",
              "      <td>https://i.ytimg.com/vi/1cXwHfPiLss/default.jpg</td>\n",
              "      <td>False</td>\n",
              "      <td>True</td>\n",
              "      <td>False</td>\n",
              "      <td>Brasil x Áustria, Brasil vs Áustria , Brasil x...</td>\n",
              "      <td>Martinique</td>\n",
              "      <td>14.610412</td>\n",
              "      <td>-61.080029</td>\n",
              "      <td>POINT (-61.08002914 14.6104118)</td>\n",
              "      <td>Sports</td>\n",
              "    </tr>\n",
              "    <tr>\n",
              "      <th>35352</th>\n",
              "      <td>8MTYGWrroqI</td>\n",
              "      <td>2018-12-06</td>\n",
              "      <td>سو Ep 4 Ramdan الحلقة الرابعة رمضان JAMAL AZZA TV</td>\n",
              "      <td>AYMANE HAMIDI Vlogs</td>\n",
              "      <td>22</td>\n",
              "      <td>2018-10-06</td>\n",
              "      <td>#Souhlifa #Aloula #Ramadan #2m #Telemaroc</td>\n",
              "      <td>131877</td>\n",
              "      <td>0</td>\n",
              "      <td>0</td>\n",
              "      <td>0</td>\n",
              "      <td>https://i.ytimg.com/vi/8MTYGWrroqI/default.jpg</td>\n",
              "      <td>True</td>\n",
              "      <td>True</td>\n",
              "      <td>False</td>\n",
              "      <td>Pag youtube Jamal Azza : https://www.youtube.c...</td>\n",
              "      <td>Basse Normandie</td>\n",
              "      <td>49.650392</td>\n",
              "      <td>-1.649987</td>\n",
              "      <td>POINT (-1.649987428 49.65039187)</td>\n",
              "      <td>People &amp; Blogs</td>\n",
              "    </tr>\n",
              "    <tr>\n",
              "      <th>35518</th>\n",
              "      <td>hAT-lYVgLtk</td>\n",
              "      <td>2018-06-13</td>\n",
              "      <td>قناة مكة - القران الكريم - مباشر  Quran Makkah...</td>\n",
              "      <td>mp3quran Website</td>\n",
              "      <td>27</td>\n",
              "      <td>2018-06-13</td>\n",
              "      <td>quran makkah live stream قناة القران الكريم مك...</td>\n",
              "      <td>64694</td>\n",
              "      <td>0</td>\n",
              "      <td>0</td>\n",
              "      <td>11</td>\n",
              "      <td>https://i.ytimg.com/vi/hAT-lYVgLtk/default.jpg</td>\n",
              "      <td>False</td>\n",
              "      <td>True</td>\n",
              "      <td>False</td>\n",
              "      <td>قناة القران الكريم السعودية مباشريمكنكم مشاهدة...</td>\n",
              "      <td>Guinaa</td>\n",
              "      <td>4.729981</td>\n",
              "      <td>-52.330021</td>\n",
              "      <td>POINT (-52.33002059 4.729981302)</td>\n",
              "      <td>Education</td>\n",
              "    </tr>\n",
              "    <tr>\n",
              "      <th>35605</th>\n",
              "      <td>i6i0qShs-TE</td>\n",
              "      <td>2018-06-14</td>\n",
              "      <td>Idée de buffet à la Marocaine | Recettes : Deu...</td>\n",
              "      <td>SANAMAKEUP</td>\n",
              "      <td>22</td>\n",
              "      <td>2018-06-13</td>\n",
              "      <td>sanamakeup|\"youtubeuse\"|\"beauté\"|\"marocaine\"|\"...</td>\n",
              "      <td>22922</td>\n",
              "      <td>0</td>\n",
              "      <td>0</td>\n",
              "      <td>332</td>\n",
              "      <td>https://i.ytimg.com/vi/i6i0qShs-TE/default.jpg</td>\n",
              "      <td>False</td>\n",
              "      <td>True</td>\n",
              "      <td>False</td>\n",
              "      <td>▃▃▃▃▃▃ Déroule la barre d'infos ▃▃▃▃▃▃⚠️‼️Abon...</td>\n",
              "      <td>Guinaa</td>\n",
              "      <td>4.729981</td>\n",
              "      <td>-52.330021</td>\n",
              "      <td>POINT (-52.33002059 4.729981302)</td>\n",
              "      <td>People &amp; Blogs</td>\n",
              "    </tr>\n",
              "    <tr>\n",
              "      <th>35672</th>\n",
              "      <td>npnk_mqpp5I</td>\n",
              "      <td>2018-06-14</td>\n",
              "      <td>FACE à FACE - Ep 19 - | رشيد الادريسي  | - HD ...</td>\n",
              "      <td>CHADA TV</td>\n",
              "      <td>24</td>\n",
              "      <td>2018-06-13</td>\n",
              "      <td>chada|\"chadatv\"|\"chada tv\"|\"arab music\"|\"moroc...</td>\n",
              "      <td>80241</td>\n",
              "      <td>0</td>\n",
              "      <td>0</td>\n",
              "      <td>295</td>\n",
              "      <td>https://i.ytimg.com/vi/npnk_mqpp5I/default.jpg</td>\n",
              "      <td>False</td>\n",
              "      <td>True</td>\n",
              "      <td>False</td>\n",
              "      <td>Site web : https://www.chadatv.com/Facebook : ...</td>\n",
              "      <td>Alsace</td>\n",
              "      <td>47.750404</td>\n",
              "      <td>7.349980</td>\n",
              "      <td>POINT (7.34998002 47.75040448)</td>\n",
              "      <td>Entertainment</td>\n",
              "    </tr>\n",
              "  </tbody>\n",
              "</table>\n",
              "<p>593 rows × 21 columns</p>\n",
              "</div>"
            ],
            "text/plain": [
              "          video_id  ...   category_title\n",
              "8      LhjhGOBIoHM  ...    Entertainment\n",
              "98     MhDbAS6EQQ0  ...   People & Blogs\n",
              "236    IxSMSUYyZqk  ...            Music\n",
              "240    LhjhGOBIoHM  ...    Entertainment\n",
              "256    dK4BI6l-ScE  ...  News & Politics\n",
              "...            ...  ...              ...\n",
              "35177  1cXwHfPiLss  ...           Sports\n",
              "35352  8MTYGWrroqI  ...   People & Blogs\n",
              "35518  hAT-lYVgLtk  ...        Education\n",
              "35605  i6i0qShs-TE  ...   People & Blogs\n",
              "35672  npnk_mqpp5I  ...    Entertainment\n",
              "\n",
              "[593 rows x 21 columns]"
            ]
          },
          "metadata": {
            "tags": []
          },
          "execution_count": 16
        }
      ]
    },
    {
      "cell_type": "code",
      "metadata": {
        "id": "m7SPz7yNH7tu"
      },
      "source": [
        "varialbes = Frvids\n",
        "varialbes.drop(['video_id','trending_date','title','channel_title','category_id','publish_time','tags'\n",
        ",'thumbnail_link','comments_disabled','ratings_disabled','video_error_or_removed','description'\n",
        ",'state','lat','lon','geometry','category_title'],axis='columns', inplace=True)\n"
      ],
      "execution_count": 17,
      "outputs": []
    },
    {
      "cell_type": "code",
      "metadata": {
        "colab": {
          "base_uri": "https://localhost:8080/"
        },
        "id": "mWviUG-YKAin",
        "outputId": "4012ebd6-abac-4e79-8dfb-b70468e88c58"
      },
      "source": [
        "varialbes['likes'].mean()"
      ],
      "execution_count": 18,
      "outputs": [
        {
          "output_type": "execute_result",
          "data": {
            "text/plain": [
              "7695.374047939068"
            ]
          },
          "metadata": {
            "tags": []
          },
          "execution_count": 18
        }
      ]
    },
    {
      "cell_type": "code",
      "metadata": {
        "id": "EV1VW_lF-wfc"
      },
      "source": [
        ""
      ],
      "execution_count": 18,
      "outputs": []
    },
    {
      "cell_type": "code",
      "metadata": {
        "id": "HKgD_T6DtqJH"
      },
      "source": [
        "X = Frvids[['views','dislikes','comment_count']]\n",
        "y = Frvids['likes']"
      ],
      "execution_count": 19,
      "outputs": []
    },
    {
      "cell_type": "code",
      "metadata": {
        "id": "6igFqib0tr2A"
      },
      "source": [
        "from sklearn.model_selection import train_test_split"
      ],
      "execution_count": 20,
      "outputs": []
    },
    {
      "cell_type": "code",
      "metadata": {
        "id": "kOi_3LRAO8i7"
      },
      "source": [
        "X_train, X_test, y_train, y_test = train_test_split(X, y, test_size=0.2, random_state=50)"
      ],
      "execution_count": 21,
      "outputs": []
    },
    {
      "cell_type": "code",
      "metadata": {
        "id": "86l80O-CPBM6"
      },
      "source": [
        "from sklearn.linear_model import LinearRegression"
      ],
      "execution_count": 22,
      "outputs": []
    },
    {
      "cell_type": "code",
      "metadata": {
        "id": "UI6ZiOhkPEAi"
      },
      "source": [
        "lm = LinearRegression()"
      ],
      "execution_count": 23,
      "outputs": []
    },
    {
      "cell_type": "code",
      "metadata": {
        "colab": {
          "base_uri": "https://localhost:8080/"
        },
        "id": "dxCpk1YXPE7p",
        "outputId": "5967c70b-39c2-451d-b12a-5051dc0343d8"
      },
      "source": [
        "lm.fit(X_train,y_train)"
      ],
      "execution_count": 24,
      "outputs": [
        {
          "output_type": "execute_result",
          "data": {
            "text/plain": [
              "LinearRegression(copy_X=True, fit_intercept=True, n_jobs=None, normalize=False)"
            ]
          },
          "metadata": {
            "tags": []
          },
          "execution_count": 24
        }
      ]
    },
    {
      "cell_type": "code",
      "metadata": {
        "colab": {
          "base_uri": "https://localhost:8080/"
        },
        "id": "mp_mnT60PXQp",
        "outputId": "e54286aa-c7f3-42f0-fed0-cbd6d304848c"
      },
      "source": [
        "slope = lm.coef_  # w1\n",
        "intercept = lm.intercept_ # w0\n",
        "\n",
        "print(\"Las pendientes 'w1' del modelo son: \", slope)\n",
        "print(\"El término independiente de la recta 'w0' es: \", intercept)"
      ],
      "execution_count": 25,
      "outputs": [
        {
          "output_type": "stream",
          "text": [
            "Las pendientes 'w1' del modelo son:  [0.01006135 4.77985676 7.31983909]\n",
            "El término independiente de la recta 'w0' es:  -637.91692975362\n"
          ],
          "name": "stdout"
        }
      ]
    },
    {
      "cell_type": "code",
      "metadata": {
        "colab": {
          "base_uri": "https://localhost:8080/",
          "height": 143
        },
        "id": "WSpcbrz8PlNK",
        "outputId": "4f05b4f5-d440-4e57-92de-eb6e290843fd"
      },
      "source": [
        "coef_df = pd.DataFrame(lm.coef_,X.columns,columns=['Coeficiente'])\n",
        "coef_df"
      ],
      "execution_count": 26,
      "outputs": [
        {
          "output_type": "execute_result",
          "data": {
            "text/html": [
              "<div>\n",
              "<style scoped>\n",
              "    .dataframe tbody tr th:only-of-type {\n",
              "        vertical-align: middle;\n",
              "    }\n",
              "\n",
              "    .dataframe tbody tr th {\n",
              "        vertical-align: top;\n",
              "    }\n",
              "\n",
              "    .dataframe thead th {\n",
              "        text-align: right;\n",
              "    }\n",
              "</style>\n",
              "<table border=\"1\" class=\"dataframe\">\n",
              "  <thead>\n",
              "    <tr style=\"text-align: right;\">\n",
              "      <th></th>\n",
              "      <th>Coeficiente</th>\n",
              "    </tr>\n",
              "  </thead>\n",
              "  <tbody>\n",
              "    <tr>\n",
              "      <th>views</th>\n",
              "      <td>0.010061</td>\n",
              "    </tr>\n",
              "    <tr>\n",
              "      <th>dislikes</th>\n",
              "      <td>4.779857</td>\n",
              "    </tr>\n",
              "    <tr>\n",
              "      <th>comment_count</th>\n",
              "      <td>7.319839</td>\n",
              "    </tr>\n",
              "  </tbody>\n",
              "</table>\n",
              "</div>"
            ],
            "text/plain": [
              "               Coeficiente\n",
              "views             0.010061\n",
              "dislikes          4.779857\n",
              "comment_count     7.319839"
            ]
          },
          "metadata": {
            "tags": []
          },
          "execution_count": 26
        }
      ]
    },
    {
      "cell_type": "code",
      "metadata": {
        "id": "dMoJ6vE_Q_A5"
      },
      "source": [
        "predictions = lm.predict(X_test)"
      ],
      "execution_count": 27,
      "outputs": []
    },
    {
      "cell_type": "code",
      "metadata": {
        "colab": {
          "base_uri": "https://localhost:8080/",
          "height": 313
        },
        "id": "g1ZoYtUYRAkJ",
        "outputId": "dfe08636-e044-4162-fec3-6eb17b5ebbfa"
      },
      "source": [
        "plt.scatter(y_test,predictions)\n",
        "plt.title(\" Regresion Lineal\")\n",
        "plt.plot(np.unique(y_test), np.poly1d(np.polyfit(y_test, predictions, 1))(np.unique(y_test)), color='r')\n",
        "plt.xlabel('Y Prueba')\n",
        "plt.ylabel('Y Predichos')"
      ],
      "execution_count": 39,
      "outputs": [
        {
          "output_type": "execute_result",
          "data": {
            "text/plain": [
              "Text(0, 0.5, 'Y Predichos')"
            ]
          },
          "metadata": {
            "tags": []
          },
          "execution_count": 39
        },
        {
          "output_type": "display_data",
          "data": {
            "image/png": "[encoded data removed]",
            "text/plain": [
              "<Figure size 432x288 with 1 Axes>"
            ]
          },
          "metadata": {
            "tags": [],
            "needs_background": "light"
          }
        }
      ]
    },
    {
      "cell_type": "code",
      "metadata": {
        "colab": {
          "base_uri": "https://localhost:8080/",
          "height": 403
        },
        "id": "lbE-GeBuRIZZ",
        "outputId": "06e54ef0-8dc4-46ab-c198-2a5dea981b01"
      },
      "source": [
        "sns.displot((y_test-predictions),bins=50);\n",
        "plt.title(\"Cantidad de residuo por video\")"
      ],
      "execution_count": 29,
      "outputs": [
        {
          "output_type": "execute_result",
          "data": {
            "text/plain": [
              "Text(0.5, 1.0, 'Cantidad de residuo por video')"
            ]
          },
          "metadata": {
            "tags": []
          },
          "execution_count": 29
        },
        {
          "output_type": "display_data",
          "data": {
            "image/png": "[encoded data removed]",
            "text/plain": [
              "<Figure size 360x360 with 1 Axes>"
            ]
          },
          "metadata": {
            "tags": [],
            "needs_background": "light"
          }
        }
      ]
    },
    {
      "cell_type": "code",
      "metadata": {
        "id": "_wpfHeSDSD2R"
      },
      "source": [
        "from sklearn import metrics"
      ],
      "execution_count": 30,
      "outputs": []
    },
    {
      "cell_type": "code",
      "metadata": {
        "colab": {
          "base_uri": "https://localhost:8080/"
        },
        "id": "SSUPnSRwSGmB",
        "outputId": "f9470f38-b643-4fa0-bebc-c3d2a9e6b07b"
      },
      "source": [
        "print('MAE:', metrics.mean_absolute_error(y_test, predictions))\n",
        "print('MSE:', metrics.mean_squared_error(y_test, predictions))\n",
        "print('RMSE:', np.sqrt(metrics.mean_squared_error(y_test, predictions)))"
      ],
      "execution_count": 31,
      "outputs": [
        {
          "output_type": "stream",
          "text": [
            "MAE: 5024.686346716741\n",
            "MSE: 121283400.82974611\n",
            "RMSE: 11012.87432189009\n"
          ],
          "name": "stdout"
        }
      ]
    },
    {
      "cell_type": "markdown",
      "metadata": {
        "id": "WIjpjWV9ZiPW"
      },
      "source": [
        "## ¿Los videos en tendencia son los que mayor cantidad de comentarios positivos reciben?\n"
      ]
    },
    {
      "cell_type": "code",
      "metadata": {
        "id": "d09wYySGZhRw"
      },
      "source": [
        "media_like=Frvids['likes'].mean()\n",
        "media_dislike=Frvids['dislikes'].mean()\n"
      ],
      "execution_count": 32,
      "outputs": []
    },
    {
      "cell_type": "code",
      "metadata": {
        "id": "AAUg8Exzb2CX"
      },
      "source": [
        "def analize_sentiment(comment):\n",
        "    if comment > media_like:\n",
        "        return 1\n",
        "    else:\n",
        "        return 0"
      ],
      "execution_count": 33,
      "outputs": []
    },
    {
      "cell_type": "code",
      "metadata": {
        "colab": {
          "base_uri": "https://localhost:8080/",
          "height": 205
        },
        "id": "37AyrtKqb3bn",
        "outputId": "92efec70-d34e-4354-a842-d3222ba3b4c0"
      },
      "source": [
        "Frvids['polaridad'] = np.array([analize_sentiment(comment) for comment in Frvids['likes']])\n",
        "Frvids.head()"
      ],
      "execution_count": 34,
      "outputs": [
        {
          "output_type": "execute_result",
          "data": {
            "text/html": [
              "<div>\n",
              "<style scoped>\n",
              "    .dataframe tbody tr th:only-of-type {\n",
              "        vertical-align: middle;\n",
              "    }\n",
              "\n",
              "    .dataframe tbody tr th {\n",
              "        vertical-align: top;\n",
              "    }\n",
              "\n",
              "    .dataframe thead th {\n",
              "        text-align: right;\n",
              "    }\n",
              "</style>\n",
              "<table border=\"1\" class=\"dataframe\">\n",
              "  <thead>\n",
              "    <tr style=\"text-align: right;\">\n",
              "      <th></th>\n",
              "      <th>views</th>\n",
              "      <th>likes</th>\n",
              "      <th>dislikes</th>\n",
              "      <th>comment_count</th>\n",
              "      <th>polaridad</th>\n",
              "    </tr>\n",
              "  </thead>\n",
              "  <tbody>\n",
              "    <tr>\n",
              "      <th>0</th>\n",
              "      <td>212702</td>\n",
              "      <td>29282</td>\n",
              "      <td>1108</td>\n",
              "      <td>3817</td>\n",
              "      <td>1</td>\n",
              "    </tr>\n",
              "    <tr>\n",
              "      <th>1</th>\n",
              "      <td>432721</td>\n",
              "      <td>14053</td>\n",
              "      <td>576</td>\n",
              "      <td>1161</td>\n",
              "      <td>1</td>\n",
              "    </tr>\n",
              "    <tr>\n",
              "      <th>2</th>\n",
              "      <td>925222</td>\n",
              "      <td>85016</td>\n",
              "      <td>550</td>\n",
              "      <td>4303</td>\n",
              "      <td>1</td>\n",
              "    </tr>\n",
              "    <tr>\n",
              "      <th>3</th>\n",
              "      <td>141695</td>\n",
              "      <td>8091</td>\n",
              "      <td>72</td>\n",
              "      <td>481</td>\n",
              "      <td>1</td>\n",
              "    </tr>\n",
              "    <tr>\n",
              "      <th>4</th>\n",
              "      <td>141253</td>\n",
              "      <td>14354</td>\n",
              "      <td>202</td>\n",
              "      <td>417</td>\n",
              "      <td>1</td>\n",
              "    </tr>\n",
              "  </tbody>\n",
              "</table>\n",
              "</div>"
            ],
            "text/plain": [
              "    views  likes  dislikes  comment_count  polaridad\n",
              "0  212702  29282      1108           3817          1\n",
              "1  432721  14053       576           1161          1\n",
              "2  925222  85016       550           4303          1\n",
              "3  141695   8091        72            481          1\n",
              "4  141253  14354       202            417          1"
            ]
          },
          "metadata": {
            "tags": []
          },
          "execution_count": 34
        }
      ]
    },
    {
      "cell_type": "code",
      "metadata": {
        "id": "g20WmtIMcvk_"
      },
      "source": [
        "pos_com= [ i for index, i in enumerate(Frvids['likes']) if Frvids['polaridad'][index] > 0]\n",
        "neg_com = [ i for index, i in enumerate(Frvids['likes']) if Frvids['polaridad'][index] == 0]"
      ],
      "execution_count": 35,
      "outputs": []
    },
    {
      "cell_type": "code",
      "metadata": {
        "colab": {
          "base_uri": "https://localhost:8080/"
        },
        "id": "yZyd60TCdLIu",
        "outputId": "3297d6e1-e836-4656-b693-a46b79e87dd1"
      },
      "source": [
        "print(\"Percentaje de positivos : {}%\".format(len(pos_com)*100/len(Frvids['likes'])))\n",
        "print(\"Percentaje de negativos : {}%\".format(len(neg_com)*100/len(Frvids['likes'])))"
      ],
      "execution_count": 36,
      "outputs": [
        {
          "output_type": "stream",
          "text": [
            "Percentaje de positivos : 23.25548835125448%\n",
            "Percentaje de negativos : 76.74451164874552%\n"
          ],
          "name": "stdout"
        }
      ]
    },
    {
      "cell_type": "code",
      "metadata": {
        "colab": {
          "base_uri": "https://localhost:8080/",
          "height": 349
        },
        "id": "fft8vaD0ibHO",
        "outputId": "18051239-8696-441e-f536-0a4e315f39e0"
      },
      "source": [
        "cantidad = Frvids['polaridad'].value_counts()\n",
        "plt.xticks(rotation='horizontal')\n",
        "plt.bar(['negativo','positivo'], cantidad.values)\n",
        "plt.title(\"Cantidad de tipos de comentarios\")\n",
        "plt.xlabel(\"Tipo de comentario\")\n",
        "plt.ylabel(\"Cantidad de comentarios\")\n",
        "\n",
        "print(cantidad)"
      ],
      "execution_count": 37,
      "outputs": [
        {
          "output_type": "stream",
          "text": [
            "0    27407\n",
            "1     8305\n",
            "Name: polaridad, dtype: int64\n"
          ],
          "name": "stdout"
        },
        {
          "output_type": "display_data",
          "data": {
            "image/png": "[encoded data removed]",
            "text/plain": [
              "<Figure size 432x288 with 1 Axes>"
            ]
          },
          "metadata": {
            "tags": [],
            "needs_background": "light"
          }
        }
      ]
    },
    {
      "cell_type": "code",
      "metadata": {
        "id": "_7FSvS0a-QZF"
      },
      "source": [
        "X_text=['asd']"
      ],
      "execution_count": 38,
      "outputs": []
    }
  ]
}