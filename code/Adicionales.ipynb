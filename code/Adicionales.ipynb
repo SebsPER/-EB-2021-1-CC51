{
  "nbformat": 4,
  "nbformat_minor": 0,
  "metadata": {
    "accelerator": "TPU",
    "colab": {
      "name": "Adicionales.ipynb",
      "provenance": [],
      "collapsed_sections": []
    },
    "kernelspec": {
      "display_name": "Python 3",
      "name": "python3"
    },
    "language_info": {
      "name": "python"
    }
  },
  "cells": [
    {
      "cell_type": "markdown",
      "metadata": {
        "id": "SpxbIQjWtVRZ"
      },
      "source": [
        "## ¿Es factible predecir el número de “Vistas” o “Me gusta” o “No me gusta”?\n"
      ]
    },
    {
      "cell_type": "code",
      "metadata": {
        "id": "mWrHvyOnrnzt"
      },
      "source": [
        "import numpy as np\n",
        "import pandas as pd\n",
        "import seaborn as sns\n",
        "import matplotlib.pyplot as plt\n",
        "import json\n",
        "%matplotlib inline"
      ],
      "execution_count": 298,
      "outputs": []
    },
    {
      "cell_type": "code",
      "metadata": {
        "id": "utrFl9DbtSDf"
      },
      "source": [
        "Frvids = pd.read_csv('FRvideos_Clean.csv')\n",
        "Frvids = Frvids.drop(columns=['Unnamed: 0'])"
      ],
      "execution_count": 299,
      "outputs": []
    },
    {
      "cell_type": "code",
      "metadata": {
        "id": "ClLJI7WNtUpH"
      },
      "source": [
        "Frvids.loc[Frvids['likes']==0]"
      ],
      "execution_count": null,
      "outputs": []
    },
    {
      "cell_type": "code",
      "metadata": {
        "id": "m7SPz7yNH7tu"
      },
      "source": [
        "varialbes = Frvids\n",
        "varialbes.drop(['video_id','trending_date','title','channel_title','category_id','publish_time','tags'\n",
        ",'thumbnail_link','comments_disabled','ratings_disabled','video_error_or_removed','description'\n",
        ",'state','lat','lon','geometry','category_title'],axis='columns', inplace=True)\n"
      ],
      "execution_count": 301,
      "outputs": []
    },
    {
      "cell_type": "code",
      "metadata": {
        "colab": {
          "base_uri": "https://localhost:8080/",
          "height": 422
        },
        "id": "mWviUG-YKAin",
        "outputId": "8c94a44a-17f9-4931-9b0e-ae83260f7b76"
      },
      "source": [
        "varialbes"
      ],
      "execution_count": 302,
      "outputs": [
        {
          "output_type": "execute_result",
          "data": {
            "text/html": [
              "<div>\n",
              "<style scoped>\n",
              "    .dataframe tbody tr th:only-of-type {\n",
              "        vertical-align: middle;\n",
              "    }\n",
              "\n",
              "    .dataframe tbody tr th {\n",
              "        vertical-align: top;\n",
              "    }\n",
              "\n",
              "    .dataframe thead th {\n",
              "        text-align: right;\n",
              "    }\n",
              "</style>\n",
              "<table border=\"1\" class=\"dataframe\">\n",
              "  <thead>\n",
              "    <tr style=\"text-align: right;\">\n",
              "      <th></th>\n",
              "      <th>views</th>\n",
              "      <th>likes</th>\n",
              "      <th>dislikes</th>\n",
              "      <th>comment_count</th>\n",
              "    </tr>\n",
              "  </thead>\n",
              "  <tbody>\n",
              "    <tr>\n",
              "      <th>0</th>\n",
              "      <td>212702</td>\n",
              "      <td>29282</td>\n",
              "      <td>1108</td>\n",
              "      <td>3817</td>\n",
              "    </tr>\n",
              "    <tr>\n",
              "      <th>1</th>\n",
              "      <td>432721</td>\n",
              "      <td>14053</td>\n",
              "      <td>576</td>\n",
              "      <td>1161</td>\n",
              "    </tr>\n",
              "    <tr>\n",
              "      <th>2</th>\n",
              "      <td>925222</td>\n",
              "      <td>85016</td>\n",
              "      <td>550</td>\n",
              "      <td>4303</td>\n",
              "    </tr>\n",
              "    <tr>\n",
              "      <th>3</th>\n",
              "      <td>141695</td>\n",
              "      <td>8091</td>\n",
              "      <td>72</td>\n",
              "      <td>481</td>\n",
              "    </tr>\n",
              "    <tr>\n",
              "      <th>4</th>\n",
              "      <td>141253</td>\n",
              "      <td>14354</td>\n",
              "      <td>202</td>\n",
              "      <td>417</td>\n",
              "    </tr>\n",
              "    <tr>\n",
              "      <th>...</th>\n",
              "      <td>...</td>\n",
              "      <td>...</td>\n",
              "      <td>...</td>\n",
              "      <td>...</td>\n",
              "    </tr>\n",
              "    <tr>\n",
              "      <th>35707</th>\n",
              "      <td>560827</td>\n",
              "      <td>8688</td>\n",
              "      <td>147</td>\n",
              "      <td>696</td>\n",
              "    </tr>\n",
              "    <tr>\n",
              "      <th>35708</th>\n",
              "      <td>58758</td>\n",
              "      <td>307</td>\n",
              "      <td>86</td>\n",
              "      <td>485</td>\n",
              "    </tr>\n",
              "    <tr>\n",
              "      <th>35709</th>\n",
              "      <td>264639</td>\n",
              "      <td>2011</td>\n",
              "      <td>999</td>\n",
              "      <td>1397</td>\n",
              "    </tr>\n",
              "    <tr>\n",
              "      <th>35710</th>\n",
              "      <td>47510</td>\n",
              "      <td>4601</td>\n",
              "      <td>61</td>\n",
              "      <td>615</td>\n",
              "    </tr>\n",
              "    <tr>\n",
              "      <th>35711</th>\n",
              "      <td>78117</td>\n",
              "      <td>244</td>\n",
              "      <td>74</td>\n",
              "      <td>46</td>\n",
              "    </tr>\n",
              "  </tbody>\n",
              "</table>\n",
              "<p>35712 rows × 4 columns</p>\n",
              "</div>"
            ],
            "text/plain": [
              "        views  likes  dislikes  comment_count\n",
              "0      212702  29282      1108           3817\n",
              "1      432721  14053       576           1161\n",
              "2      925222  85016       550           4303\n",
              "3      141695   8091        72            481\n",
              "4      141253  14354       202            417\n",
              "...       ...    ...       ...            ...\n",
              "35707  560827   8688       147            696\n",
              "35708   58758    307        86            485\n",
              "35709  264639   2011       999           1397\n",
              "35710   47510   4601        61            615\n",
              "35711   78117    244        74             46\n",
              "\n",
              "[35712 rows x 4 columns]"
            ]
          },
          "metadata": {
            "tags": []
          },
          "execution_count": 302
        }
      ]
    },
    {
      "cell_type": "code",
      "metadata": {
        "id": "HKgD_T6DtqJH"
      },
      "source": [
        "X = Frvids[['views','dislikes','comment_count']]\n",
        "y = Frvids['likes']"
      ],
      "execution_count": 303,
      "outputs": []
    },
    {
      "cell_type": "code",
      "metadata": {
        "id": "6igFqib0tr2A"
      },
      "source": [
        "from sklearn.model_selection import train_test_split"
      ],
      "execution_count": 304,
      "outputs": []
    },
    {
      "cell_type": "code",
      "metadata": {
        "id": "kOi_3LRAO8i7"
      },
      "source": [
        "X_train, X_test, y_train, y_test = train_test_split(X, y, test_size=0.2, random_state=50)"
      ],
      "execution_count": 305,
      "outputs": []
    },
    {
      "cell_type": "code",
      "metadata": {
        "id": "86l80O-CPBM6"
      },
      "source": [
        "from sklearn.linear_model import LinearRegression"
      ],
      "execution_count": 306,
      "outputs": []
    },
    {
      "cell_type": "code",
      "metadata": {
        "id": "UI6ZiOhkPEAi"
      },
      "source": [
        "lm = LinearRegression()"
      ],
      "execution_count": 307,
      "outputs": []
    },
    {
      "cell_type": "code",
      "metadata": {
        "colab": {
          "base_uri": "https://localhost:8080/"
        },
        "id": "dxCpk1YXPE7p",
        "outputId": "fec05250-f4ff-4d20-872a-56372025cefc"
      },
      "source": [
        "lm.fit(X_train,y_train)"
      ],
      "execution_count": 308,
      "outputs": [
        {
          "output_type": "execute_result",
          "data": {
            "text/plain": [
              "LinearRegression(copy_X=True, fit_intercept=True, n_jobs=None, normalize=False)"
            ]
          },
          "metadata": {
            "tags": []
          },
          "execution_count": 308
        }
      ]
    },
    {
      "cell_type": "code",
      "metadata": {
        "colab": {
          "base_uri": "https://localhost:8080/"
        },
        "id": "mp_mnT60PXQp",
        "outputId": "a7195237-f0e9-44dd-b730-ef74aeacf824"
      },
      "source": [
        "slope = lm.coef_  # w1\n",
        "intercept = lm.intercept_ # w0\n",
        "\n",
        "print(\"Las pendientes 'w1' del modelo son: \", slope)\n",
        "print(\"El término independiente de la recta 'w0' es: \", intercept)"
      ],
      "execution_count": 309,
      "outputs": [
        {
          "output_type": "stream",
          "text": [
            "Las pendientes 'w1' del modelo son:  [0.01006135 4.77985676 7.31983909]\n",
            "El término independiente de la recta 'w0' es:  -637.91692975362\n"
          ],
          "name": "stdout"
        }
      ]
    },
    {
      "cell_type": "code",
      "metadata": {
        "colab": {
          "base_uri": "https://localhost:8080/",
          "height": 143
        },
        "id": "WSpcbrz8PlNK",
        "outputId": "eda332b4-7311-42a5-cf3e-3b4666ee9e92"
      },
      "source": [
        "coef_df = pd.DataFrame(lm.coef_,X.columns,columns=['Coeficiente'])\n",
        "coef_df"
      ],
      "execution_count": 310,
      "outputs": [
        {
          "output_type": "execute_result",
          "data": {
            "text/html": [
              "<div>\n",
              "<style scoped>\n",
              "    .dataframe tbody tr th:only-of-type {\n",
              "        vertical-align: middle;\n",
              "    }\n",
              "\n",
              "    .dataframe tbody tr th {\n",
              "        vertical-align: top;\n",
              "    }\n",
              "\n",
              "    .dataframe thead th {\n",
              "        text-align: right;\n",
              "    }\n",
              "</style>\n",
              "<table border=\"1\" class=\"dataframe\">\n",
              "  <thead>\n",
              "    <tr style=\"text-align: right;\">\n",
              "      <th></th>\n",
              "      <th>Coeficiente</th>\n",
              "    </tr>\n",
              "  </thead>\n",
              "  <tbody>\n",
              "    <tr>\n",
              "      <th>views</th>\n",
              "      <td>0.010061</td>\n",
              "    </tr>\n",
              "    <tr>\n",
              "      <th>dislikes</th>\n",
              "      <td>4.779857</td>\n",
              "    </tr>\n",
              "    <tr>\n",
              "      <th>comment_count</th>\n",
              "      <td>7.319839</td>\n",
              "    </tr>\n",
              "  </tbody>\n",
              "</table>\n",
              "</div>"
            ],
            "text/plain": [
              "               Coeficiente\n",
              "views             0.010061\n",
              "dislikes          4.779857\n",
              "comment_count     7.319839"
            ]
          },
          "metadata": {
            "tags": []
          },
          "execution_count": 310
        }
      ]
    },
    {
      "cell_type": "code",
      "metadata": {
        "id": "dMoJ6vE_Q_A5"
      },
      "source": [
        "predictions = lm.predict(X_test)"
      ],
      "execution_count": 311,
      "outputs": []
    },
    {
      "cell_type": "code",
      "metadata": {
        "colab": {
          "base_uri": "https://localhost:8080/",
          "height": 313
        },
        "id": "g1ZoYtUYRAkJ",
        "outputId": "41531862-935e-452b-92d2-c1cf38ea7d41"
      },
      "source": [
        "plt.scatter(y_test,predictions)\n",
        "plt.title(\" Regresion Lineal\")\n",
        "plt.xlabel('Y Prueba')\n",
        "plt.ylabel('Y Predichos')"
      ],
      "execution_count": 312,
      "outputs": [
        {
          "output_type": "execute_result",
          "data": {
            "text/plain": [
              "Text(0, 0.5, 'Y Predichos')"
            ]
          },
          "metadata": {
            "tags": []
          },
          "execution_count": 312
        },
        {
          "output_type": "display_data",
          "data": {
            "image/png": "[encoded data removed]",
            "text/plain": [
              "<Figure size 432x288 with 1 Axes>"
            ]
          },
          "metadata": {
            "tags": [],
            "needs_background": "light"
          }
        }
      ]
    },
    {
      "cell_type": "code",
      "metadata": {
        "colab": {
          "base_uri": "https://localhost:8080/",
          "height": 403
        },
        "id": "lbE-GeBuRIZZ",
        "outputId": "4489e0cc-8dd3-4f6b-ece0-499d86cbaa6c"
      },
      "source": [
        "sns.displot((y_test-predictions),bins=50);\n",
        "plt.title(\"Cantidad de residuo por video\")"
      ],
      "execution_count": 313,
      "outputs": [
        {
          "output_type": "execute_result",
          "data": {
            "text/plain": [
              "Text(0.5, 1.0, 'Cantidad de residuo por video')"
            ]
          },
          "metadata": {
            "tags": []
          },
          "execution_count": 313
        },
        {
          "output_type": "display_data",
          "data": {
            "image/png": "[encoded data removed]",
            "text/plain": [
              "<Figure size 360x360 with 1 Axes>"
            ]
          },
          "metadata": {
            "tags": [],
            "needs_background": "light"
          }
        }
      ]
    },
    {
      "cell_type": "code",
      "metadata": {
        "id": "_wpfHeSDSD2R"
      },
      "source": [
        "from sklearn import metrics"
      ],
      "execution_count": 314,
      "outputs": []
    },
    {
      "cell_type": "code",
      "metadata": {
        "colab": {
          "base_uri": "https://localhost:8080/"
        },
        "id": "SSUPnSRwSGmB",
        "outputId": "e9853447-4ac8-489a-c83a-abe171497ff5"
      },
      "source": [
        "print('MAE:', metrics.mean_absolute_error(y_test, predictions))\n",
        "print('MSE:', metrics.mean_squared_error(y_test, predictions))\n",
        "print('RMSE:', np.sqrt(metrics.mean_squared_error(y_test, predictions)))"
      ],
      "execution_count": 315,
      "outputs": [
        {
          "output_type": "stream",
          "text": [
            "MAE: 5024.686346716741\n",
            "MSE: 121283400.82974611\n",
            "RMSE: 11012.87432189009\n"
          ],
          "name": "stdout"
        }
      ]
    },
    {
      "cell_type": "markdown",
      "metadata": {
        "id": "WIjpjWV9ZiPW"
      },
      "source": [
        "## ¿Los videos en tendencia son los que mayor cantidad de comentarios positivos reciben?\n"
      ]
    },
    {
      "cell_type": "code",
      "metadata": {
        "id": "d09wYySGZhRw"
      },
      "source": [
        "media_like=Frvids['likes'].mean()\n",
        "media_dislike=Frvids['dislikes'].mean()\n"
      ],
      "execution_count": 316,
      "outputs": []
    },
    {
      "cell_type": "code",
      "metadata": {
        "id": "AAUg8Exzb2CX"
      },
      "source": [
        "def analize_sentiment(comment):\n",
        "    if comment > media_like:\n",
        "        return 1\n",
        "    else:\n",
        "        return 0"
      ],
      "execution_count": 317,
      "outputs": []
    },
    {
      "cell_type": "code",
      "metadata": {
        "colab": {
          "base_uri": "https://localhost:8080/",
          "height": 205
        },
        "id": "37AyrtKqb3bn",
        "outputId": "066ec19f-85c6-42c2-e6f9-b8071f948481"
      },
      "source": [
        "Frvids['polaridad'] = np.array([analize_sentiment(comment) for comment in Frvids['likes']])\n",
        "Frvids.head()"
      ],
      "execution_count": 318,
      "outputs": [
        {
          "output_type": "execute_result",
          "data": {
            "text/html": [
              "<div>\n",
              "<style scoped>\n",
              "    .dataframe tbody tr th:only-of-type {\n",
              "        vertical-align: middle;\n",
              "    }\n",
              "\n",
              "    .dataframe tbody tr th {\n",
              "        vertical-align: top;\n",
              "    }\n",
              "\n",
              "    .dataframe thead th {\n",
              "        text-align: right;\n",
              "    }\n",
              "</style>\n",
              "<table border=\"1\" class=\"dataframe\">\n",
              "  <thead>\n",
              "    <tr style=\"text-align: right;\">\n",
              "      <th></th>\n",
              "      <th>views</th>\n",
              "      <th>likes</th>\n",
              "      <th>dislikes</th>\n",
              "      <th>comment_count</th>\n",
              "      <th>polaridad</th>\n",
              "    </tr>\n",
              "  </thead>\n",
              "  <tbody>\n",
              "    <tr>\n",
              "      <th>0</th>\n",
              "      <td>212702</td>\n",
              "      <td>29282</td>\n",
              "      <td>1108</td>\n",
              "      <td>3817</td>\n",
              "      <td>1</td>\n",
              "    </tr>\n",
              "    <tr>\n",
              "      <th>1</th>\n",
              "      <td>432721</td>\n",
              "      <td>14053</td>\n",
              "      <td>576</td>\n",
              "      <td>1161</td>\n",
              "      <td>1</td>\n",
              "    </tr>\n",
              "    <tr>\n",
              "      <th>2</th>\n",
              "      <td>925222</td>\n",
              "      <td>85016</td>\n",
              "      <td>550</td>\n",
              "      <td>4303</td>\n",
              "      <td>1</td>\n",
              "    </tr>\n",
              "    <tr>\n",
              "      <th>3</th>\n",
              "      <td>141695</td>\n",
              "      <td>8091</td>\n",
              "      <td>72</td>\n",
              "      <td>481</td>\n",
              "      <td>1</td>\n",
              "    </tr>\n",
              "    <tr>\n",
              "      <th>4</th>\n",
              "      <td>141253</td>\n",
              "      <td>14354</td>\n",
              "      <td>202</td>\n",
              "      <td>417</td>\n",
              "      <td>1</td>\n",
              "    </tr>\n",
              "  </tbody>\n",
              "</table>\n",
              "</div>"
            ],
            "text/plain": [
              "    views  likes  dislikes  comment_count  polaridad\n",
              "0  212702  29282      1108           3817          1\n",
              "1  432721  14053       576           1161          1\n",
              "2  925222  85016       550           4303          1\n",
              "3  141695   8091        72            481          1\n",
              "4  141253  14354       202            417          1"
            ]
          },
          "metadata": {
            "tags": []
          },
          "execution_count": 318
        }
      ]
    },
    {
      "cell_type": "code",
      "metadata": {
        "id": "g20WmtIMcvk_"
      },
      "source": [
        "pos_com= [ i for index, i in enumerate(Frvids['likes']) if Frvids['polaridad'][index] > 0]\n",
        "neg_com = [ i for index, i in enumerate(Frvids['likes']) if Frvids['polaridad'][index] == 0]"
      ],
      "execution_count": 319,
      "outputs": []
    },
    {
      "cell_type": "code",
      "metadata": {
        "colab": {
          "base_uri": "https://localhost:8080/"
        },
        "id": "yZyd60TCdLIu",
        "outputId": "14b06088-50f5-43f5-8cca-59701a201e31"
      },
      "source": [
        "print(\"Percentaje de positivos : {}%\".format(len(pos_com)*100/len(Frvids['likes'])))\n",
        "print(\"Percentaje de negativos : {}%\".format(len(neg_com)*100/len(Frvids['likes'])))"
      ],
      "execution_count": 320,
      "outputs": [
        {
          "output_type": "stream",
          "text": [
            "Percentaje de positivos : 23.25548835125448%\n",
            "Percentaje de negativos : 76.74451164874552%\n"
          ],
          "name": "stdout"
        }
      ]
    },
    {
      "cell_type": "code",
      "metadata": {
        "colab": {
          "base_uri": "https://localhost:8080/",
          "height": 349
        },
        "id": "fft8vaD0ibHO",
        "outputId": "3b519312-e229-4095-a681-11b7493193db"
      },
      "source": [
        "cantidad = Frvids['polaridad'].value_counts()\n",
        "plt.xticks(rotation='horizontal')\n",
        "plt.bar(['negativo','positivo'], cantidad.values)\n",
        "plt.title(\"Cantidad de tipos de comentarios\")\n",
        "plt.xlabel(\"Tipo de comentario\")\n",
        "plt.ylabel(\"Cantidad de comentarios\")\n",
        "\n",
        "print(cantidad)"
      ],
      "execution_count": 321,
      "outputs": [
        {
          "output_type": "stream",
          "text": [
            "0    27407\n",
            "1     8305\n",
            "Name: polaridad, dtype: int64\n"
          ],
          "name": "stdout"
        },
        {
          "output_type": "display_data",
          "data": {
            "image/png": "[encoded data removed]",
            "text/plain": [
              "<Figure size 432x288 with 1 Axes>"
            ]
          },
          "metadata": {
            "tags": [],
            "needs_background": "light"
          }
        }
      ]
    }
  ]
}