{
 "cells": [
  {
   "cell_type": "code",
   "execution_count": 3,
   "metadata": {},
   "outputs": [
    {
     "name": "stdout",
     "output_type": "stream",
     "text": [
      "Requirement already satisfied: geopandas in c:\\users\\sebastian\\anaconda3\\envs\\geo_env\\lib\\site-packages (0.9.0)\n",
      "Requirement already satisfied: pandas>=0.24.0 in c:\\users\\sebastian\\anaconda3\\envs\\geo_env\\lib\\site-packages (from geopandas) (1.3.0)\n",
      "Requirement already satisfied: fiona>=1.8 in c:\\users\\sebastian\\anaconda3\\envs\\geo_env\\lib\\site-packages (from geopandas) (1.8.20)\n",
      "Requirement already satisfied: pyproj>=2.2.0 in c:\\users\\sebastian\\anaconda3\\envs\\geo_env\\lib\\site-packages (from geopandas) (3.1.0)\n",
      "Note: you may need to restart the kernel to use updated packages.\n",
      "Requirement already satisfied: shapely>=1.6 in c:\\users\\sebastian\\anaconda3\\envs\\geo_env\\lib\\site-packages (from geopandas) (1.7.1)\n",
      "Requirement already satisfied: attrs>=17 in c:\\users\\sebastian\\anaconda3\\envs\\geo_env\\lib\\site-packages (from fiona>=1.8->geopandas) (21.2.0)\n",
      "Requirement already satisfied: certifi in c:\\users\\sebastian\\anaconda3\\envs\\geo_env\\lib\\site-packages (from fiona>=1.8->geopandas) (2021.5.30)\n",
      "Requirement already satisfied: click>=4.0 in c:\\users\\sebastian\\anaconda3\\envs\\geo_env\\lib\\site-packages (from fiona>=1.8->geopandas) (7.1.2)\n",
      "Requirement already satisfied: cligj>=0.5 in c:\\users\\sebastian\\anaconda3\\envs\\geo_env\\lib\\site-packages (from fiona>=1.8->geopandas) (0.7.2)\n",
      "Requirement already satisfied: click-plugins>=1.0 in c:\\users\\sebastian\\anaconda3\\envs\\geo_env\\lib\\site-packages (from fiona>=1.8->geopandas) (1.1.1)\n",
      "Requirement already satisfied: six>=1.7 in c:\\users\\sebastian\\anaconda3\\envs\\geo_env\\lib\\site-packages (from fiona>=1.8->geopandas) (1.16.0)\n",
      "Requirement already satisfied: munch in c:\\users\\sebastian\\anaconda3\\envs\\geo_env\\lib\\site-packages (from fiona>=1.8->geopandas) (2.5.0)\n",
      "Requirement already satisfied: setuptools in c:\\users\\sebastian\\anaconda3\\envs\\geo_env\\lib\\site-packages (from fiona>=1.8->geopandas) (49.6.0.post20210108)\n",
      "Requirement already satisfied: numpy>=1.17.3 in c:\\users\\sebastian\\anaconda3\\envs\\geo_env\\lib\\site-packages (from pandas>=0.24.0->geopandas) (1.21.0)\n",
      "Requirement already satisfied: pytz>=2017.3 in c:\\users\\sebastian\\anaconda3\\envs\\geo_env\\lib\\site-packages (from pandas>=0.24.0->geopandas) (2021.1)\n",
      "Requirement already satisfied: python-dateutil>=2.7.3 in c:\\users\\sebastian\\anaconda3\\envs\\geo_env\\lib\\site-packages (from pandas>=0.24.0->geopandas) (2.8.1)\n",
      "Collecting seaborn\n",
      "  Using cached seaborn-0.11.1-py3-none-any.whl (285 kB)\n",
      "Requirement already satisfied: matplotlib>=2.2 in c:\\users\\sebastian\\anaconda3\\envs\\geo_env\\lib\\site-packages (from seaborn) (3.4.2)\n",
      "Requirement already satisfied: numpy>=1.15 in c:\\users\\sebastian\\anaconda3\\envs\\geo_env\\lib\\site-packages (from seaborn) (1.21.0)\n",
      "Requirement already satisfied: pandas>=0.23 in c:\\users\\sebastian\\anaconda3\\envs\\geo_env\\lib\\site-packages (from seaborn) (1.3.0)\n",
      "Requirement already satisfied: scipy>=1.0 in c:\\users\\sebastian\\anaconda3\\envs\\geo_env\\lib\\site-packages (from seaborn) (1.7.0)\n",
      "Requirement already satisfied: pyparsing>=2.2.1 in c:\\users\\sebastian\\anaconda3\\envs\\geo_env\\lib\\site-packages (from matplotlib>=2.2->seaborn) (2.4.7)\n",
      "Requirement already satisfied: cycler>=0.10 in c:\\users\\sebastian\\anaconda3\\envs\\geo_env\\lib\\site-packages (from matplotlib>=2.2->seaborn) (0.10.0)\n",
      "Requirement already satisfied: pillow>=6.2.0 in c:\\users\\sebastian\\anaconda3\\envs\\geo_env\\lib\\site-packages (from matplotlib>=2.2->seaborn) (8.3.0)\n",
      "Requirement already satisfied: kiwisolver>=1.0.1 in c:\\users\\sebastian\\anaconda3\\envs\\geo_env\\lib\\site-packages (from matplotlib>=2.2->seaborn) (1.3.1)\n",
      "Requirement already satisfied: python-dateutil>=2.7 in c:\\users\\sebastian\\anaconda3\\envs\\geo_env\\lib\\site-packages (from matplotlib>=2.2->seaborn) (2.8.1)\n",
      "Requirement already satisfied: six in c:\\users\\sebastian\\anaconda3\\envs\\geo_env\\lib\\site-packages (from cycler>=0.10->matplotlib>=2.2->seaborn) (1.16.0)\n",
      "Requirement already satisfied: pytz>=2017.3 in c:\\users\\sebastian\\anaconda3\\envs\\geo_env\\lib\\site-packages (from pandas>=0.23->seaborn) (2021.1)\n",
      "Installing collected packages: seaborn\n",
      "Successfully installed seaborn-0.11.1\n",
      "Note: you may need to restart the kernel to use updated packages.\n",
      "Requirement already satisfied: matplotlib in c:\\users\\sebastian\\anaconda3\\envs\\geo_env\\lib\\site-packages (3.4.2)\n",
      "Requirement already satisfied: pyparsing>=2.2.1 in c:\\users\\sebastian\\anaconda3\\envs\\geo_env\\lib\\site-packages (from matplotlib) (2.4.7)\n",
      "Requirement already satisfied: python-dateutil>=2.7 in c:\\users\\sebastian\\anaconda3\\envs\\geo_env\\lib\\site-packages (from matplotlib) (2.8.1)\n",
      "Requirement already satisfied: cycler>=0.10 in c:\\users\\sebastian\\anaconda3\\envs\\geo_env\\lib\\site-packages (from matplotlib) (0.10.0)\n",
      "Requirement already satisfied: pillow>=6.2.0 in c:\\users\\sebastian\\anaconda3\\envs\\geo_env\\lib\\site-packages (from matplotlib) (8.3.0)\n",
      "Requirement already satisfied: kiwisolver>=1.0.1 in c:\\users\\sebastian\\anaconda3\\envs\\geo_env\\lib\\site-packages (from matplotlib) (1.3.1)\n",
      "Requirement already satisfied: numpy>=1.16 in c:\\users\\sebastian\\anaconda3\\envs\\geo_env\\lib\\site-packages (from matplotlib) (1.21.0)\n",
      "Requirement already satisfied: six in c:\\users\\sebastian\\anaconda3\\envs\\geo_env\\lib\\site-packages (from cycler>=0.10->matplotlib) (1.16.0)\n",
      "Note: you may need to restart the kernel to use updated packages.\n"
     ]
    }
   ],
   "source": [
    "%pip install geopandas\n",
    "%pip install matplotlib"
   ]
  },
  {
   "cell_type": "code",
   "execution_count": 8,
   "metadata": {},
   "outputs": [
    {
     "name": "stdout",
     "output_type": "stream",
     "text": [
      "Collecting plotly\n",
      "  Downloading plotly-5.1.0-py2.py3-none-any.whl (20.6 MB)\n",
      "Collecting chart-studio\n",
      "  Using cached chart_studio-1.1.0-py3-none-any.whl (64 kB)\n",
      "Collecting tenacity>=6.2.0\n",
      "  Downloading tenacity-7.0.0-py2.py3-none-any.whl (23 kB)\n",
      "Requirement already satisfied: six in c:\\users\\sebastian\\anaconda3\\envs\\geo_env\\lib\\site-packages (from plotly) (1.16.0)\n",
      "Collecting retrying>=1.3.3\n",
      "  Using cached retrying-1.3.3.tar.gz (10 kB)\n",
      "Collecting requests\n",
      "  Using cached requests-2.25.1-py2.py3-none-any.whl (61 kB)\n",
      "Collecting idna<3,>=2.5\n",
      "  Using cached idna-2.10-py2.py3-none-any.whl (58 kB)\n",
      "Collecting chardet<5,>=3.0.2\n",
      "  Using cached chardet-4.0.0-py2.py3-none-any.whl (178 kB)\n",
      "Collecting urllib3<1.27,>=1.21.1\n",
      "  Using cached urllib3-1.26.6-py2.py3-none-any.whl (138 kB)\n",
      "Requirement already satisfied: certifi>=2017.4.17 in c:\\users\\sebastian\\anaconda3\\envs\\geo_env\\lib\\site-packages (from requests->chart-studio) (2021.5.30)\n",
      "Building wheels for collected packages: retrying\n",
      "  Building wheel for retrying (setup.py): started\n",
      "  Building wheel for retrying (setup.py): finished with status 'done'\n",
      "  Created wheel for retrying: filename=retrying-1.3.3-py3-none-any.whl size=11429 sha256=c98763c6c7aeb1fa752a3e6dc71a2928a9b556c380ffc4333e058a139cab0cc2\n",
      "  Stored in directory: c:\\users\\sebastian\\appdata\\local\\pip\\cache\\wheels\\ce\\18\\7f\\e9527e3e66db1456194ac7f61eb3211068c409edceecff2d31\n",
      "Successfully built retrying\n",
      "Installing collected packages: urllib3, tenacity, idna, chardet, retrying, requests, plotly, chart-studio\n",
      "Successfully installed chardet-4.0.0 chart-studio-1.1.0 idna-2.10 plotly-5.1.0 requests-2.25.1 retrying-1.3.3 tenacity-7.0.0 urllib3-1.26.6\n"
     ]
    }
   ],
   "source": [
    "!pip install plotly chart-studio"
   ]
  },
  {
   "cell_type": "code",
   "execution_count": 21,
   "metadata": {
    "id": "unTuIfCGSOQY"
   },
   "outputs": [
    {
     "data": {
      "text/html": [
       "        <script type=\"text/javascript\">\n",
       "        window.PlotlyConfig = {MathJaxConfig: 'local'};\n",
       "        if (window.MathJax) {MathJax.Hub.Config({SVG: {font: \"STIX-Web\"}});}\n",
       "        if (typeof require !== 'undefined') {\n",
       "        require.undef(\"plotly\");\n",
       "        requirejs.config({\n",
       "            paths: {\n",
       "                'plotly': ['https://cdn.plot.ly/plotly-2.2.0.min']\n",
       "            }\n",
       "        });\n",
       "        require(['plotly'], function(Plotly) {\n",
       "            window._Plotly = Plotly;\n",
       "        });\n",
       "        }\n",
       "        </script>\n",
       "        "
      ]
     },
     "metadata": {},
     "output_type": "display_data"
    }
   ],
   "source": [
    "import numpy as np\n",
    "import pandas as pd\n",
    "import matplotlib.pyplot as plt\n",
    "#import json\n",
    "import chart_studio as py\n",
    "import plotly.graph_objs as go \n",
    "from plotly.offline import download_plotlyjs, init_notebook_mode, plot, iplot\n",
    "import plotly.express as px\n",
    "import geopandas as gpd\n",
    "init_notebook_mode(connected=True) \n",
    "%matplotlib inline"
   ]
  },
  {
   "cell_type": "code",
   "execution_count": 56,
   "metadata": {
    "id": "OtD8G80FSc1F"
   },
   "outputs": [],
   "source": [
    "Frvids = pd.read_csv('FRvideos_Clean.csv')\n",
    "Frvids = Frvids.drop(columns=['Unnamed: 0'])"
   ]
  },
  {
   "cell_type": "code",
   "execution_count": 57,
   "metadata": {},
   "outputs": [
    {
     "name": "stdout",
     "output_type": "stream",
     "text": [
      "<class 'pandas.core.frame.DataFrame'>\n",
      "RangeIndex: 35712 entries, 0 to 35711\n",
      "Data columns (total 21 columns):\n",
      " #   Column                  Non-Null Count  Dtype  \n",
      "---  ------                  --------------  -----  \n",
      " 0   video_id                35712 non-null  object \n",
      " 1   trending_date           35712 non-null  object \n",
      " 2   title                   35712 non-null  object \n",
      " 3   channel_title           35712 non-null  object \n",
      " 4   category_id             35712 non-null  int64  \n",
      " 5   publish_time            35712 non-null  object \n",
      " 6   tags                    35712 non-null  object \n",
      " 7   views                   35712 non-null  int64  \n",
      " 8   likes                   35712 non-null  int64  \n",
      " 9   dislikes                35712 non-null  int64  \n",
      " 10  comment_count           35712 non-null  int64  \n",
      " 11  thumbnail_link          35712 non-null  object \n",
      " 12  comments_disabled       35712 non-null  bool   \n",
      " 13  ratings_disabled        35712 non-null  bool   \n",
      " 14  video_error_or_removed  35712 non-null  bool   \n",
      " 15  description             35712 non-null  object \n",
      " 16  state                   35712 non-null  object \n",
      " 17  lat                     35712 non-null  float64\n",
      " 18  lon                     35712 non-null  float64\n",
      " 19  geometry                35712 non-null  object \n",
      " 20  category_title          35712 non-null  object \n",
      "dtypes: bool(3), float64(2), int64(5), object(11)\n",
      "memory usage: 5.0+ MB\n"
     ]
    }
   ],
   "source": [
    "Frvids.info()"
   ]
  },
  {
   "cell_type": "code",
   "execution_count": 58,
   "metadata": {
    "colab": {
     "base_uri": "https://localhost:8080/",
     "height": 647
    },
    "id": "0fG5C7oLSf-7",
    "outputId": "274c0f33-f19f-41b1-993a-103ed589ca0a"
   },
   "outputs": [
    {
     "data": {
      "text/html": [
       "<div>\n",
       "<style scoped>\n",
       "    .dataframe tbody tr th:only-of-type {\n",
       "        vertical-align: middle;\n",
       "    }\n",
       "\n",
       "    .dataframe tbody tr th {\n",
       "        vertical-align: top;\n",
       "    }\n",
       "\n",
       "    .dataframe thead th {\n",
       "        text-align: right;\n",
       "    }\n",
       "</style>\n",
       "<table border=\"1\" class=\"dataframe\">\n",
       "  <thead>\n",
       "    <tr style=\"text-align: right;\">\n",
       "      <th></th>\n",
       "      <th>video_id</th>\n",
       "      <th>trending_date</th>\n",
       "      <th>title</th>\n",
       "      <th>channel_title</th>\n",
       "      <th>category_id</th>\n",
       "      <th>publish_time</th>\n",
       "      <th>tags</th>\n",
       "      <th>views</th>\n",
       "      <th>likes</th>\n",
       "      <th>dislikes</th>\n",
       "      <th>...</th>\n",
       "      <th>thumbnail_link</th>\n",
       "      <th>comments_disabled</th>\n",
       "      <th>ratings_disabled</th>\n",
       "      <th>video_error_or_removed</th>\n",
       "      <th>description</th>\n",
       "      <th>state</th>\n",
       "      <th>lat</th>\n",
       "      <th>lon</th>\n",
       "      <th>geometry</th>\n",
       "      <th>category_title</th>\n",
       "    </tr>\n",
       "  </thead>\n",
       "  <tbody>\n",
       "    <tr>\n",
       "      <th>0</th>\n",
       "      <td>Ro6eob0LrCY</td>\n",
       "      <td>2017-11-14</td>\n",
       "      <td>Malika LePen : Femme de Gauche - Trailer</td>\n",
       "      <td>Le Raptor Dissident</td>\n",
       "      <td>24</td>\n",
       "      <td>2017-11-13</td>\n",
       "      <td>Raptor\"|\"Dissident\"|\"Expliquez\"|\"moi\"|\"cette\"|...</td>\n",
       "      <td>212702</td>\n",
       "      <td>29282</td>\n",
       "      <td>1108</td>\n",
       "      <td>...</td>\n",
       "      <td>https://i.ytimg.com/vi/Ro6eob0LrCY/default.jpg</td>\n",
       "      <td>False</td>\n",
       "      <td>False</td>\n",
       "      <td>False</td>\n",
       "      <td>Dimanche.\\n18h30.\\nSoyez présents pour la vidé...</td>\n",
       "      <td>Ile De France</td>\n",
       "      <td>48.533302</td>\n",
       "      <td>2.666648</td>\n",
       "      <td>POINT (2.666648314 48.53330243)</td>\n",
       "      <td>Entertainment</td>\n",
       "    </tr>\n",
       "    <tr>\n",
       "      <th>1</th>\n",
       "      <td>Yo84eqYwP98</td>\n",
       "      <td>2017-11-14</td>\n",
       "      <td>LA PIRE PARTIE ft Le Rire Jaune, Pierre Croce,...</td>\n",
       "      <td>Le Labo</td>\n",
       "      <td>24</td>\n",
       "      <td>2017-12-11</td>\n",
       "      <td>[none]</td>\n",
       "      <td>432721</td>\n",
       "      <td>14053</td>\n",
       "      <td>576</td>\n",
       "      <td>...</td>\n",
       "      <td>https://i.ytimg.com/vi/Yo84eqYwP98/default.jpg</td>\n",
       "      <td>False</td>\n",
       "      <td>False</td>\n",
       "      <td>False</td>\n",
       "      <td>Le jeu de société: https://goo.gl/hhG1Ta\\n\\nGa...</td>\n",
       "      <td>Corse</td>\n",
       "      <td>41.927065</td>\n",
       "      <td>8.728294</td>\n",
       "      <td>POINT (8.728293821999999 41.92706484)</td>\n",
       "      <td>Entertainment</td>\n",
       "    </tr>\n",
       "    <tr>\n",
       "      <th>2</th>\n",
       "      <td>WuTFI5qftCE</td>\n",
       "      <td>2017-11-14</td>\n",
       "      <td>PAPY GRENIER - METAL GEAR SOLID</td>\n",
       "      <td>Joueur Du Grenier</td>\n",
       "      <td>20</td>\n",
       "      <td>2017-12-11</td>\n",
       "      <td>Papy grenier\"|\"Metal Gear Solid\"|\"PS1\"|\"Tirage...</td>\n",
       "      <td>925222</td>\n",
       "      <td>85016</td>\n",
       "      <td>550</td>\n",
       "      <td>...</td>\n",
       "      <td>https://i.ytimg.com/vi/WuTFI5qftCE/default.jpg</td>\n",
       "      <td>False</td>\n",
       "      <td>False</td>\n",
       "      <td>False</td>\n",
       "      <td>Nouvel ,épisode de Papy Grenier ! Ce mois-ci o...</td>\n",
       "      <td>Moyotte</td>\n",
       "      <td>-12.787089</td>\n",
       "      <td>45.275004</td>\n",
       "      <td>POINT (45.27500362 -12.78708901)</td>\n",
       "      <td>Gaming</td>\n",
       "    </tr>\n",
       "    <tr>\n",
       "      <th>3</th>\n",
       "      <td>ee6OFs8TdEg</td>\n",
       "      <td>2017-11-14</td>\n",
       "      <td>QUI SAUTERA LE PLUS HAUT ? (VÉLO SKATE ROLLER ...</td>\n",
       "      <td>Aurelien Fontenoy</td>\n",
       "      <td>17</td>\n",
       "      <td>2017-11-13</td>\n",
       "      <td>vélo\"|\"vtt\"|\"bmx\"|\"freestyle\"|\"bike\"|\"mtb\"|\"di...</td>\n",
       "      <td>141695</td>\n",
       "      <td>8091</td>\n",
       "      <td>72</td>\n",
       "      <td>...</td>\n",
       "      <td>https://i.ytimg.com/vi/ee6OFs8TdEg/default.jpg</td>\n",
       "      <td>False</td>\n",
       "      <td>False</td>\n",
       "      <td>False</td>\n",
       "      <td>Sauts à plus de 4 mètres de haut dans un tramp...</td>\n",
       "      <td>Pays De La Loire</td>\n",
       "      <td>47.480008</td>\n",
       "      <td>-0.530030</td>\n",
       "      <td>POINT (-0.530029949 47.48000755)</td>\n",
       "      <td>Sports</td>\n",
       "    </tr>\n",
       "    <tr>\n",
       "      <th>4</th>\n",
       "      <td>teXaL6GdQRk</td>\n",
       "      <td>2017-11-14</td>\n",
       "      <td>STRANGER JOKES : Jokes de Papa avec les teens ...</td>\n",
       "      <td>Le Jeu, C'est Sérieux</td>\n",
       "      <td>23</td>\n",
       "      <td>2017-11-13</td>\n",
       "      <td>Stranger Jokes\"|\"Jokes de Papa\"|\"Stranger Thin...</td>\n",
       "      <td>141253</td>\n",
       "      <td>14354</td>\n",
       "      <td>202</td>\n",
       "      <td>...</td>\n",
       "      <td>https://i.ytimg.com/vi/teXaL6GdQRk/default.jpg</td>\n",
       "      <td>False</td>\n",
       "      <td>False</td>\n",
       "      <td>False</td>\n",
       "      <td>Contenu commandité par Netflix France.\\nInspir...</td>\n",
       "      <td>Martinique</td>\n",
       "      <td>14.610412</td>\n",
       "      <td>-61.080029</td>\n",
       "      <td>POINT (-61.08002914 14.6104118)</td>\n",
       "      <td>Comedy</td>\n",
       "    </tr>\n",
       "    <tr>\n",
       "      <th>5</th>\n",
       "      <td>nduL7G_gJoY</td>\n",
       "      <td>2017-11-14</td>\n",
       "      <td>De retour dans le Manoir hanté avec le Grand J...</td>\n",
       "      <td>silent jill</td>\n",
       "      <td>24</td>\n",
       "      <td>2017-12-11</td>\n",
       "      <td>fantome\"|\"esprits\"|\"spiritisme\"|\"hanté\"|\"ouija...</td>\n",
       "      <td>187654</td>\n",
       "      <td>9286</td>\n",
       "      <td>1381</td>\n",
       "      <td>...</td>\n",
       "      <td>https://i.ytimg.com/vi/nduL7G_gJoY/default.jpg</td>\n",
       "      <td>False</td>\n",
       "      <td>False</td>\n",
       "      <td>False</td>\n",
       "      <td>Bonsoir à tous, \\nJe tenais beaucoup à retourn...</td>\n",
       "      <td>Guadeloupe</td>\n",
       "      <td>16.241475</td>\n",
       "      <td>-61.532999</td>\n",
       "      <td>POINT (-61.5329989 16.24147504)</td>\n",
       "      <td>Entertainment</td>\n",
       "    </tr>\n",
       "    <tr>\n",
       "      <th>6</th>\n",
       "      <td>QmpWE_SODZA</td>\n",
       "      <td>2017-11-14</td>\n",
       "      <td>T'es qui toi ? Squeezie, le youtubeur aux 4 mi...</td>\n",
       "      <td>Salut les terriens !</td>\n",
       "      <td>24</td>\n",
       "      <td>2017-11-13</td>\n",
       "      <td>salut les terriens\"|\"squeezie\"|\"jeux videos\"|\"...</td>\n",
       "      <td>91051</td>\n",
       "      <td>1674</td>\n",
       "      <td>1903</td>\n",
       "      <td>...</td>\n",
       "      <td>https://i.ytimg.com/vi/QmpWE_SODZA/default.jpg</td>\n",
       "      <td>False</td>\n",
       "      <td>False</td>\n",
       "      <td>False</td>\n",
       "      <td>Dans Salut Les Terriens, Thierry Ardisson, reç...</td>\n",
       "      <td>Ile De France</td>\n",
       "      <td>48.533302</td>\n",
       "      <td>2.666648</td>\n",
       "      <td>POINT (2.666648314 48.53330243)</td>\n",
       "      <td>Entertainment</td>\n",
       "    </tr>\n",
       "    <tr>\n",
       "      <th>7</th>\n",
       "      <td>0RFhWyM6qbA</td>\n",
       "      <td>2017-11-14</td>\n",
       "      <td>Benzema balance ses dur vérités Deschamps et L...</td>\n",
       "      <td>HALIRIPA</td>\n",
       "      <td>22</td>\n",
       "      <td>2017-12-11</td>\n",
       "      <td>Karim benzema football\"|\"Benzema vs cristiano ...</td>\n",
       "      <td>635236</td>\n",
       "      <td>5945</td>\n",
       "      <td>722</td>\n",
       "      <td>...</td>\n",
       "      <td>https://i.ytimg.com/vi/0RFhWyM6qbA/default.jpg</td>\n",
       "      <td>False</td>\n",
       "      <td>False</td>\n",
       "      <td>False</td>\n",
       "      <td>Abonnez-vous et partagez au max la famille</td>\n",
       "      <td>Poitou Charentes</td>\n",
       "      <td>46.583292</td>\n",
       "      <td>0.333277</td>\n",
       "      <td>POINT (0.333276529 46.58329226)</td>\n",
       "      <td>People &amp; Blogs</td>\n",
       "    </tr>\n",
       "    <tr>\n",
       "      <th>8</th>\n",
       "      <td>LhjhGOBIoHM</td>\n",
       "      <td>2017-11-14</td>\n",
       "      <td>Jérémy Ferrari - On n'est pas couché 11 novemb...</td>\n",
       "      <td>On n'est pas couché</td>\n",
       "      <td>24</td>\n",
       "      <td>2017-12-11</td>\n",
       "      <td>onpc\"|\"on n'est pas couche\"|\"laurent ruquier\"|...</td>\n",
       "      <td>294065</td>\n",
       "      <td>0</td>\n",
       "      <td>0</td>\n",
       "      <td>...</td>\n",
       "      <td>https://i.ytimg.com/vi/LhjhGOBIoHM/default.jpg</td>\n",
       "      <td>True</td>\n",
       "      <td>True</td>\n",
       "      <td>False</td>\n",
       "      <td>Jérémy Ferrari - On n'est pas couché 11 novemb...</td>\n",
       "      <td>Pays De La Loire</td>\n",
       "      <td>47.480008</td>\n",
       "      <td>-0.530030</td>\n",
       "      <td>POINT (-0.530029949 47.48000755)</td>\n",
       "      <td>Entertainment</td>\n",
       "    </tr>\n",
       "    <tr>\n",
       "      <th>9</th>\n",
       "      <td>lnFaRuWOLN0</td>\n",
       "      <td>2017-11-14</td>\n",
       "      <td>Emilie, 10 ans, Coach De Vie</td>\n",
       "      <td>Lolywood</td>\n",
       "      <td>23</td>\n",
       "      <td>2017-12-11</td>\n",
       "      <td>Chope squad\"|\"manu\"|\"Le dernier niveau\"|\"Le Co...</td>\n",
       "      <td>1504950</td>\n",
       "      <td>108635</td>\n",
       "      <td>1562</td>\n",
       "      <td>...</td>\n",
       "      <td>https://i.ytimg.com/vi/lnFaRuWOLN0/default.jpg</td>\n",
       "      <td>False</td>\n",
       "      <td>False</td>\n",
       "      <td>False</td>\n",
       "      <td>Tu sais que ça va pas trop dans ta vie quand u...</td>\n",
       "      <td>Bourgogne</td>\n",
       "      <td>46.983733</td>\n",
       "      <td>3.166669</td>\n",
       "      <td>POINT (3.166669473 46.98373293)</td>\n",
       "      <td>Comedy</td>\n",
       "    </tr>\n",
       "  </tbody>\n",
       "</table>\n",
       "<p>10 rows × 21 columns</p>\n",
       "</div>"
      ],
      "text/plain": [
       "      video_id trending_date  \\\n",
       "0  Ro6eob0LrCY    2017-11-14   \n",
       "1  Yo84eqYwP98    2017-11-14   \n",
       "2  WuTFI5qftCE    2017-11-14   \n",
       "3  ee6OFs8TdEg    2017-11-14   \n",
       "4  teXaL6GdQRk    2017-11-14   \n",
       "5  nduL7G_gJoY    2017-11-14   \n",
       "6  QmpWE_SODZA    2017-11-14   \n",
       "7  0RFhWyM6qbA    2017-11-14   \n",
       "8  LhjhGOBIoHM    2017-11-14   \n",
       "9  lnFaRuWOLN0    2017-11-14   \n",
       "\n",
       "                                               title          channel_title  \\\n",
       "0           Malika LePen : Femme de Gauche - Trailer    Le Raptor Dissident   \n",
       "1  LA PIRE PARTIE ft Le Rire Jaune, Pierre Croce,...                Le Labo   \n",
       "2                    PAPY GRENIER - METAL GEAR SOLID      Joueur Du Grenier   \n",
       "3  QUI SAUTERA LE PLUS HAUT ? (VÉLO SKATE ROLLER ...      Aurelien Fontenoy   \n",
       "4  STRANGER JOKES : Jokes de Papa avec les teens ...  Le Jeu, C'est Sérieux   \n",
       "5  De retour dans le Manoir hanté avec le Grand J...            silent jill   \n",
       "6  T'es qui toi ? Squeezie, le youtubeur aux 4 mi...   Salut les terriens !   \n",
       "7  Benzema balance ses dur vérités Deschamps et L...               HALIRIPA   \n",
       "8  Jérémy Ferrari - On n'est pas couché 11 novemb...    On n'est pas couché   \n",
       "9                       Emilie, 10 ans, Coach De Vie               Lolywood   \n",
       "\n",
       "   category_id publish_time  \\\n",
       "0           24   2017-11-13   \n",
       "1           24   2017-12-11   \n",
       "2           20   2017-12-11   \n",
       "3           17   2017-11-13   \n",
       "4           23   2017-11-13   \n",
       "5           24   2017-12-11   \n",
       "6           24   2017-11-13   \n",
       "7           22   2017-12-11   \n",
       "8           24   2017-12-11   \n",
       "9           23   2017-12-11   \n",
       "\n",
       "                                                tags    views   likes  \\\n",
       "0  Raptor\"|\"Dissident\"|\"Expliquez\"|\"moi\"|\"cette\"|...   212702   29282   \n",
       "1                                             [none]   432721   14053   \n",
       "2  Papy grenier\"|\"Metal Gear Solid\"|\"PS1\"|\"Tirage...   925222   85016   \n",
       "3  vélo\"|\"vtt\"|\"bmx\"|\"freestyle\"|\"bike\"|\"mtb\"|\"di...   141695    8091   \n",
       "4  Stranger Jokes\"|\"Jokes de Papa\"|\"Stranger Thin...   141253   14354   \n",
       "5  fantome\"|\"esprits\"|\"spiritisme\"|\"hanté\"|\"ouija...   187654    9286   \n",
       "6  salut les terriens\"|\"squeezie\"|\"jeux videos\"|\"...    91051    1674   \n",
       "7  Karim benzema football\"|\"Benzema vs cristiano ...   635236    5945   \n",
       "8  onpc\"|\"on n'est pas couche\"|\"laurent ruquier\"|...   294065       0   \n",
       "9  Chope squad\"|\"manu\"|\"Le dernier niveau\"|\"Le Co...  1504950  108635   \n",
       "\n",
       "   dislikes  ...                                  thumbnail_link  \\\n",
       "0      1108  ...  https://i.ytimg.com/vi/Ro6eob0LrCY/default.jpg   \n",
       "1       576  ...  https://i.ytimg.com/vi/Yo84eqYwP98/default.jpg   \n",
       "2       550  ...  https://i.ytimg.com/vi/WuTFI5qftCE/default.jpg   \n",
       "3        72  ...  https://i.ytimg.com/vi/ee6OFs8TdEg/default.jpg   \n",
       "4       202  ...  https://i.ytimg.com/vi/teXaL6GdQRk/default.jpg   \n",
       "5      1381  ...  https://i.ytimg.com/vi/nduL7G_gJoY/default.jpg   \n",
       "6      1903  ...  https://i.ytimg.com/vi/QmpWE_SODZA/default.jpg   \n",
       "7       722  ...  https://i.ytimg.com/vi/0RFhWyM6qbA/default.jpg   \n",
       "8         0  ...  https://i.ytimg.com/vi/LhjhGOBIoHM/default.jpg   \n",
       "9      1562  ...  https://i.ytimg.com/vi/lnFaRuWOLN0/default.jpg   \n",
       "\n",
       "  comments_disabled  ratings_disabled  video_error_or_removed  \\\n",
       "0             False             False                   False   \n",
       "1             False             False                   False   \n",
       "2             False             False                   False   \n",
       "3             False             False                   False   \n",
       "4             False             False                   False   \n",
       "5             False             False                   False   \n",
       "6             False             False                   False   \n",
       "7             False             False                   False   \n",
       "8              True              True                   False   \n",
       "9             False             False                   False   \n",
       "\n",
       "                                         description             state  \\\n",
       "0  Dimanche.\\n18h30.\\nSoyez présents pour la vidé...     Ile De France   \n",
       "1  Le jeu de société: https://goo.gl/hhG1Ta\\n\\nGa...             Corse   \n",
       "2  Nouvel ,épisode de Papy Grenier ! Ce mois-ci o...           Moyotte   \n",
       "3  Sauts à plus de 4 mètres de haut dans un tramp...  Pays De La Loire   \n",
       "4  Contenu commandité par Netflix France.\\nInspir...        Martinique   \n",
       "5  Bonsoir à tous, \\nJe tenais beaucoup à retourn...        Guadeloupe   \n",
       "6  Dans Salut Les Terriens, Thierry Ardisson, reç...     Ile De France   \n",
       "7         Abonnez-vous et partagez au max la famille  Poitou Charentes   \n",
       "8  Jérémy Ferrari - On n'est pas couché 11 novemb...  Pays De La Loire   \n",
       "9  Tu sais que ça va pas trop dans ta vie quand u...         Bourgogne   \n",
       "\n",
       "         lat        lon                               geometry  category_title  \n",
       "0  48.533302   2.666648        POINT (2.666648314 48.53330243)   Entertainment  \n",
       "1  41.927065   8.728294  POINT (8.728293821999999 41.92706484)   Entertainment  \n",
       "2 -12.787089  45.275004       POINT (45.27500362 -12.78708901)          Gaming  \n",
       "3  47.480008  -0.530030       POINT (-0.530029949 47.48000755)          Sports  \n",
       "4  14.610412 -61.080029        POINT (-61.08002914 14.6104118)          Comedy  \n",
       "5  16.241475 -61.532999        POINT (-61.5329989 16.24147504)   Entertainment  \n",
       "6  48.533302   2.666648        POINT (2.666648314 48.53330243)   Entertainment  \n",
       "7  46.583292   0.333277        POINT (0.333276529 46.58329226)  People & Blogs  \n",
       "8  47.480008  -0.530030       POINT (-0.530029949 47.48000755)   Entertainment  \n",
       "9  46.983733   3.166669        POINT (3.166669473 46.98373293)          Comedy  \n",
       "\n",
       "[10 rows x 21 columns]"
      ]
     },
     "execution_count": 58,
     "metadata": {},
     "output_type": "execute_result"
    }
   ],
   "source": [
    "Frvids.head(10)"
   ]
  },
  {
   "cell_type": "code",
   "execution_count": 59,
   "metadata": {},
   "outputs": [
    {
     "name": "stdout",
     "output_type": "stream",
     "text": [
      "state\n",
      "Alsace                        48.533302\n",
      "Amapa                         41.927065\n",
      "Aquitaine                    -12.787089\n",
      "Auvergne                      47.480008\n",
      "Basse Normandie               14.610412\n",
      "Bourgogne                     16.241475\n",
      "Bretagne                      46.583292\n",
      "Centre                        46.983733\n",
      "Champagne Ardenne             47.750404\n",
      "Corse                         49.650392\n",
      "Franche Comte                 45.150408\n",
      "Guadeloupe                    43.519991\n",
      "Guinaa                        48.516663\n",
      "Haute Normandie               47.083727\n",
      "Ile De France                  4.729981\n",
      "La Reunion                    49.933734\n",
      "Languedoc Roussillon          45.779982\n",
      "Limousin                      48.340394\n",
      "Lorraine                      43.473275\n",
      "Martinique                     3.910471\n",
      "Midi Pyrenees                 49.900377\n",
      "Moyotte                       48.683681\n",
      "Nord Pas De Calais            50.283325\n",
      "Pays De La Loire             -21.033511\n",
      "Picardie                      42.699989\n",
      "Poitou Charentes              45.899975\n",
      "Provence Alpes Cote D'azur    43.233290\n",
      "Rhone Alpes                   47.229997\n",
      "Name: lat, dtype: float64\n",
      "state\n",
      "Alsace                         7.349980\n",
      "Amapa                        -51.810001\n",
      "Aquitaine                     -1.561595\n",
      "Auvergne                       3.080008\n",
      "Basse Normandie               -1.649987\n",
      "Bourgogne                      3.166669\n",
      "Bretagne                      -2.783303\n",
      "Centre                         2.399998\n",
      "Champagne Ardenne              4.083358\n",
      "Corse                          8.728294\n",
      "Franche Comte                  6.030009\n",
      "Guadeloupe                   -61.532999\n",
      "Guinaa                       -52.330021\n",
      "Haute Normandie                1.083334\n",
      "Ile De France                  2.666648\n",
      "La Reunion                    55.712816\n",
      "Languedoc Roussillon           2.899967\n",
      "Limousin                       1.533332\n",
      "Lorraine                       6.200024\n",
      "Martinique                   -61.080029\n",
      "Midi Pyrenees                  0.083343\n",
      "Moyotte                       45.275004\n",
      "Nord Pas De Calais             2.783334\n",
      "Pays De La Loire              -0.530030\n",
      "Picardie                       2.300004\n",
      "Poitou Charentes               0.333277\n",
      "Provence Alpes Cote D'azur     5.449993\n",
      "Rhone Alpes                    6.116670\n",
      "Name: lon, dtype: float64\n",
      "state\n",
      "Alsace                         [47.75040448]\n",
      "Amapa                            [3.9104706]\n",
      "Aquitaine                      [43.47327537]\n",
      "Auvergne                       [45.77998212]\n",
      "Basse Normandie                [49.65039187]\n",
      "Bourgogne                      [46.98373293]\n",
      "Bretagne                       [48.51666262]\n",
      "Centre                         [47.08372683]\n",
      "Champagne Ardenne              [48.34039431]\n",
      "Corse                          [41.92706484]\n",
      "Franche Comte                  [47.22999697]\n",
      "Guadeloupe                     [16.24147504]\n",
      "Guinaa                         [4.729981302]\n",
      "Haute Normandie                [49.93373374]\n",
      "Ile De France                  [48.53330243]\n",
      "La Reunion                    [-21.03351072]\n",
      "Languedoc Roussillon           [42.69998924]\n",
      "Limousin                       [45.15040814]\n",
      "Lorraine                       [48.68368085]\n",
      "Martinique                      [14.6104118]\n",
      "Midi Pyrenees                  [43.23329002]\n",
      "Moyotte                       [-12.78708901]\n",
      "Nord Pas De Calais             [50.28332481]\n",
      "Pays De La Loire               [47.48000755]\n",
      "Picardie                       [49.90037661]\n",
      "Poitou Charentes               [46.58329226]\n",
      "Provence Alpes Cote D'azur     [43.51999086]\n",
      "Rhone Alpes                    [45.89997479]\n",
      "Name: lat, dtype: object\n"
     ]
    }
   ],
   "source": [
    "FrSt = Frvids.groupby(Frvids['state'])\n",
    "FrL = pd.DataFrame(FrSt.sum()['likes'])\n",
    "FrDL = pd.DataFrame(FrSt.sum()['dislikes'])\n",
    "\n",
    "FrL['dislikes'] = FrDL['dislikes']\n",
    "FrL['lat'] = Frvids['lat'].unique().astype(float)\n",
    "FrL['lon'] = FrSt['lon'].unique().astype(float)\n",
    "FrL['state'] = FrSt['state'].unique()\n",
    "\n",
    "print(FrL['lat'])\n",
    "print(FrL['lon'])\n",
    "print(FrSt['lat'].unique())"
   ]
  },
  {
   "cell_type": "code",
   "execution_count": 60,
   "metadata": {},
   "outputs": [
    {
     "data": {
      "application/vnd.plotly.v1+json": {
       "config": {
        "plotlyServerURL": "https://plot.ly"
       },
       "data": [
        {
         "hovertemplate": "<b>%{hovertext}</b><br><br>dislikes=%{marker.color}<br>lat=%{lat}<br>lon=%{lon}<extra></extra>",
         "hovertext": [
          "['Alsace']",
          "['Amapa']",
          "['Aquitaine']",
          "['Auvergne']",
          "['Basse Normandie']",
          "['Bourgogne']",
          "['Bretagne']",
          "['Centre']",
          "['Champagne Ardenne']",
          "['Corse']",
          "['Franche Comte']",
          "['Guadeloupe']",
          "['Guinaa']",
          "['Haute Normandie']",
          "['Ile De France']",
          "['La Reunion']",
          "['Languedoc Roussillon']",
          "['Limousin']",
          "['Lorraine']",
          "['Martinique']",
          "['Midi Pyrenees']",
          "['Moyotte']",
          "['Nord Pas De Calais']",
          "['Pays De La Loire']",
          "['Picardie']",
          "['Poitou Charentes']",
          "[\"Provence Alpes Cote D'azur\"]",
          "['Rhone Alpes']"
         ],
         "lat": [
          48.53330243,
          41.92706484,
          -12.78708901,
          47.48000755,
          14.6104118,
          16.24147504,
          46.58329226,
          46.98373293,
          47.75040448,
          49.65039187,
          45.15040814,
          43.51999086,
          48.51666262,
          47.08372683,
          4.729981302,
          49.93373374,
          45.77998212,
          48.34039431,
          43.47327537,
          3.9104706,
          49.90037661,
          48.68368085,
          50.28332481,
          -21.03351072,
          42.69998924,
          45.89997479,
          43.23329002,
          47.22999697
         ],
         "legendgroup": "",
         "lon": [
          7.34998002,
          -51.81000065,
          -1.561594891,
          3.080008096,
          -1.649987428,
          3.166669473,
          -2.783303265,
          2.399997923,
          4.083357705,
          8.728293822,
          6.03000891,
          -61.5329989,
          -52.33002059,
          1.083334105,
          2.666648314,
          55.71281612,
          2.899967406,
          1.533332477,
          6.200024372,
          -61.08002914,
          0.083343464,
          45.27500362,
          2.783333698,
          -0.530029949,
          2.300004027,
          0.333276529,
          5.449992634,
          6.116670287
         ],
         "marker": {
          "color": [
           358889,
           364431,
           344750,
           324462,
           322940,
           309963,
           319727,
           342503,
           347518,
           351447,
           381268,
           335851,
           318855,
           339894,
           334422,
           309019,
           329515,
           358982,
           330353,
           314182,
           358511,
           351339,
           343560,
           375815,
           353295,
           303480,
           391752,
           377134
          ],
          "coloraxis": "coloraxis",
          "size": [
           358889,
           364431,
           344750,
           324462,
           322940,
           309963,
           319727,
           342503,
           347518,
           351447,
           381268,
           335851,
           318855,
           339894,
           334422,
           309019,
           329515,
           358982,
           330353,
           314182,
           358511,
           351339,
           343560,
           375815,
           353295,
           303480,
           391752,
           377134
          ],
          "sizemode": "area",
          "sizeref": 979.38
         },
         "mode": "markers",
         "name": "",
         "showlegend": false,
         "subplot": "mapbox",
         "type": "scattermapbox"
        }
       ],
       "layout": {
        "coloraxis": {
         "colorbar": {
          "title": {
           "text": "dislikes"
          }
         },
         "colorscale": [
          [
           0,
           "#000004"
          ],
          [
           0.1111111111111111,
           "#1b0c41"
          ],
          [
           0.2222222222222222,
           "#4a0c6b"
          ],
          [
           0.3333333333333333,
           "#781c6d"
          ],
          [
           0.4444444444444444,
           "#a52c60"
          ],
          [
           0.5555555555555556,
           "#cf4446"
          ],
          [
           0.6666666666666666,
           "#ed6925"
          ],
          [
           0.7777777777777778,
           "#fb9b06"
          ],
          [
           0.8888888888888888,
           "#f7d13d"
          ],
          [
           1,
           "#fcffa4"
          ]
         ]
        },
        "legend": {
         "itemsizing": "constant",
         "tracegroupgap": 0
        },
        "mapbox": {
         "center": {
          "lat": 36.939597951857145,
          "lon": -2.3572107789642858
         },
         "domain": {
          "x": [
           0,
           1
          ],
          "y": [
           0,
           1
          ]
         },
         "style": "carto-positron",
         "zoom": 10
        },
        "margin": {
         "t": 60
        },
        "template": {
         "data": {
          "bar": [
           {
            "error_x": {
             "color": "#2a3f5f"
            },
            "error_y": {
             "color": "#2a3f5f"
            },
            "marker": {
             "line": {
              "color": "#E5ECF6",
              "width": 0.5
             },
             "pattern": {
              "fillmode": "overlay",
              "size": 10,
              "solidity": 0.2
             }
            },
            "type": "bar"
           }
          ],
          "barpolar": [
           {
            "marker": {
             "line": {
              "color": "#E5ECF6",
              "width": 0.5
             },
             "pattern": {
              "fillmode": "overlay",
              "size": 10,
              "solidity": 0.2
             }
            },
            "type": "barpolar"
           }
          ],
          "carpet": [
           {
            "aaxis": {
             "endlinecolor": "#2a3f5f",
             "gridcolor": "white",
             "linecolor": "white",
             "minorgridcolor": "white",
             "startlinecolor": "#2a3f5f"
            },
            "baxis": {
             "endlinecolor": "#2a3f5f",
             "gridcolor": "white",
             "linecolor": "white",
             "minorgridcolor": "white",
             "startlinecolor": "#2a3f5f"
            },
            "type": "carpet"
           }
          ],
          "choropleth": [
           {
            "colorbar": {
             "outlinewidth": 0,
             "ticks": ""
            },
            "type": "choropleth"
           }
          ],
          "contour": [
           {
            "colorbar": {
             "outlinewidth": 0,
             "ticks": ""
            },
            "colorscale": [
             [
              0,
              "#0d0887"
             ],
             [
              0.1111111111111111,
              "#46039f"
             ],
             [
              0.2222222222222222,
              "#7201a8"
             ],
             [
              0.3333333333333333,
              "#9c179e"
             ],
             [
              0.4444444444444444,
              "#bd3786"
             ],
             [
              0.5555555555555556,
              "#d8576b"
             ],
             [
              0.6666666666666666,
              "#ed7953"
             ],
             [
              0.7777777777777778,
              "#fb9f3a"
             ],
             [
              0.8888888888888888,
              "#fdca26"
             ],
             [
              1,
              "#f0f921"
             ]
            ],
            "type": "contour"
           }
          ],
          "contourcarpet": [
           {
            "colorbar": {
             "outlinewidth": 0,
             "ticks": ""
            },
            "type": "contourcarpet"
           }
          ],
          "heatmap": [
           {
            "colorbar": {
             "outlinewidth": 0,
             "ticks": ""
            },
            "colorscale": [
             [
              0,
              "#0d0887"
             ],
             [
              0.1111111111111111,
              "#46039f"
             ],
             [
              0.2222222222222222,
              "#7201a8"
             ],
             [
              0.3333333333333333,
              "#9c179e"
             ],
             [
              0.4444444444444444,
              "#bd3786"
             ],
             [
              0.5555555555555556,
              "#d8576b"
             ],
             [
              0.6666666666666666,
              "#ed7953"
             ],
             [
              0.7777777777777778,
              "#fb9f3a"
             ],
             [
              0.8888888888888888,
              "#fdca26"
             ],
             [
              1,
              "#f0f921"
             ]
            ],
            "type": "heatmap"
           }
          ],
          "heatmapgl": [
           {
            "colorbar": {
             "outlinewidth": 0,
             "ticks": ""
            },
            "colorscale": [
             [
              0,
              "#0d0887"
             ],
             [
              0.1111111111111111,
              "#46039f"
             ],
             [
              0.2222222222222222,
              "#7201a8"
             ],
             [
              0.3333333333333333,
              "#9c179e"
             ],
             [
              0.4444444444444444,
              "#bd3786"
             ],
             [
              0.5555555555555556,
              "#d8576b"
             ],
             [
              0.6666666666666666,
              "#ed7953"
             ],
             [
              0.7777777777777778,
              "#fb9f3a"
             ],
             [
              0.8888888888888888,
              "#fdca26"
             ],
             [
              1,
              "#f0f921"
             ]
            ],
            "type": "heatmapgl"
           }
          ],
          "histogram": [
           {
            "marker": {
             "pattern": {
              "fillmode": "overlay",
              "size": 10,
              "solidity": 0.2
             }
            },
            "type": "histogram"
           }
          ],
          "histogram2d": [
           {
            "colorbar": {
             "outlinewidth": 0,
             "ticks": ""
            },
            "colorscale": [
             [
              0,
              "#0d0887"
             ],
             [
              0.1111111111111111,
              "#46039f"
             ],
             [
              0.2222222222222222,
              "#7201a8"
             ],
             [
              0.3333333333333333,
              "#9c179e"
             ],
             [
              0.4444444444444444,
              "#bd3786"
             ],
             [
              0.5555555555555556,
              "#d8576b"
             ],
             [
              0.6666666666666666,
              "#ed7953"
             ],
             [
              0.7777777777777778,
              "#fb9f3a"
             ],
             [
              0.8888888888888888,
              "#fdca26"
             ],
             [
              1,
              "#f0f921"
             ]
            ],
            "type": "histogram2d"
           }
          ],
          "histogram2dcontour": [
           {
            "colorbar": {
             "outlinewidth": 0,
             "ticks": ""
            },
            "colorscale": [
             [
              0,
              "#0d0887"
             ],
             [
              0.1111111111111111,
              "#46039f"
             ],
             [
              0.2222222222222222,
              "#7201a8"
             ],
             [
              0.3333333333333333,
              "#9c179e"
             ],
             [
              0.4444444444444444,
              "#bd3786"
             ],
             [
              0.5555555555555556,
              "#d8576b"
             ],
             [
              0.6666666666666666,
              "#ed7953"
             ],
             [
              0.7777777777777778,
              "#fb9f3a"
             ],
             [
              0.8888888888888888,
              "#fdca26"
             ],
             [
              1,
              "#f0f921"
             ]
            ],
            "type": "histogram2dcontour"
           }
          ],
          "mesh3d": [
           {
            "colorbar": {
             "outlinewidth": 0,
             "ticks": ""
            },
            "type": "mesh3d"
           }
          ],
          "parcoords": [
           {
            "line": {
             "colorbar": {
              "outlinewidth": 0,
              "ticks": ""
             }
            },
            "type": "parcoords"
           }
          ],
          "pie": [
           {
            "automargin": true,
            "type": "pie"
           }
          ],
          "scatter": [
           {
            "marker": {
             "colorbar": {
              "outlinewidth": 0,
              "ticks": ""
             }
            },
            "type": "scatter"
           }
          ],
          "scatter3d": [
           {
            "line": {
             "colorbar": {
              "outlinewidth": 0,
              "ticks": ""
             }
            },
            "marker": {
             "colorbar": {
              "outlinewidth": 0,
              "ticks": ""
             }
            },
            "type": "scatter3d"
           }
          ],
          "scattercarpet": [
           {
            "marker": {
             "colorbar": {
              "outlinewidth": 0,
              "ticks": ""
             }
            },
            "type": "scattercarpet"
           }
          ],
          "scattergeo": [
           {
            "marker": {
             "colorbar": {
              "outlinewidth": 0,
              "ticks": ""
             }
            },
            "type": "scattergeo"
           }
          ],
          "scattergl": [
           {
            "marker": {
             "colorbar": {
              "outlinewidth": 0,
              "ticks": ""
             }
            },
            "type": "scattergl"
           }
          ],
          "scattermapbox": [
           {
            "marker": {
             "colorbar": {
              "outlinewidth": 0,
              "ticks": ""
             }
            },
            "type": "scattermapbox"
           }
          ],
          "scatterpolar": [
           {
            "marker": {
             "colorbar": {
              "outlinewidth": 0,
              "ticks": ""
             }
            },
            "type": "scatterpolar"
           }
          ],
          "scatterpolargl": [
           {
            "marker": {
             "colorbar": {
              "outlinewidth": 0,
              "ticks": ""
             }
            },
            "type": "scatterpolargl"
           }
          ],
          "scatterternary": [
           {
            "marker": {
             "colorbar": {
              "outlinewidth": 0,
              "ticks": ""
             }
            },
            "type": "scatterternary"
           }
          ],
          "surface": [
           {
            "colorbar": {
             "outlinewidth": 0,
             "ticks": ""
            },
            "colorscale": [
             [
              0,
              "#0d0887"
             ],
             [
              0.1111111111111111,
              "#46039f"
             ],
             [
              0.2222222222222222,
              "#7201a8"
             ],
             [
              0.3333333333333333,
              "#9c179e"
             ],
             [
              0.4444444444444444,
              "#bd3786"
             ],
             [
              0.5555555555555556,
              "#d8576b"
             ],
             [
              0.6666666666666666,
              "#ed7953"
             ],
             [
              0.7777777777777778,
              "#fb9f3a"
             ],
             [
              0.8888888888888888,
              "#fdca26"
             ],
             [
              1,
              "#f0f921"
             ]
            ],
            "type": "surface"
           }
          ],
          "table": [
           {
            "cells": {
             "fill": {
              "color": "#EBF0F8"
             },
             "line": {
              "color": "white"
             }
            },
            "header": {
             "fill": {
              "color": "#C8D4E3"
             },
             "line": {
              "color": "white"
             }
            },
            "type": "table"
           }
          ]
         },
         "layout": {
          "annotationdefaults": {
           "arrowcolor": "#2a3f5f",
           "arrowhead": 0,
           "arrowwidth": 1
          },
          "autotypenumbers": "strict",
          "coloraxis": {
           "colorbar": {
            "outlinewidth": 0,
            "ticks": ""
           }
          },
          "colorscale": {
           "diverging": [
            [
             0,
             "#8e0152"
            ],
            [
             0.1,
             "#c51b7d"
            ],
            [
             0.2,
             "#de77ae"
            ],
            [
             0.3,
             "#f1b6da"
            ],
            [
             0.4,
             "#fde0ef"
            ],
            [
             0.5,
             "#f7f7f7"
            ],
            [
             0.6,
             "#e6f5d0"
            ],
            [
             0.7,
             "#b8e186"
            ],
            [
             0.8,
             "#7fbc41"
            ],
            [
             0.9,
             "#4d9221"
            ],
            [
             1,
             "#276419"
            ]
           ],
           "sequential": [
            [
             0,
             "#0d0887"
            ],
            [
             0.1111111111111111,
             "#46039f"
            ],
            [
             0.2222222222222222,
             "#7201a8"
            ],
            [
             0.3333333333333333,
             "#9c179e"
            ],
            [
             0.4444444444444444,
             "#bd3786"
            ],
            [
             0.5555555555555556,
             "#d8576b"
            ],
            [
             0.6666666666666666,
             "#ed7953"
            ],
            [
             0.7777777777777778,
             "#fb9f3a"
            ],
            [
             0.8888888888888888,
             "#fdca26"
            ],
            [
             1,
             "#f0f921"
            ]
           ],
           "sequentialminus": [
            [
             0,
             "#0d0887"
            ],
            [
             0.1111111111111111,
             "#46039f"
            ],
            [
             0.2222222222222222,
             "#7201a8"
            ],
            [
             0.3333333333333333,
             "#9c179e"
            ],
            [
             0.4444444444444444,
             "#bd3786"
            ],
            [
             0.5555555555555556,
             "#d8576b"
            ],
            [
             0.6666666666666666,
             "#ed7953"
            ],
            [
             0.7777777777777778,
             "#fb9f3a"
            ],
            [
             0.8888888888888888,
             "#fdca26"
            ],
            [
             1,
             "#f0f921"
            ]
           ]
          },
          "colorway": [
           "#636efa",
           "#EF553B",
           "#00cc96",
           "#ab63fa",
           "#FFA15A",
           "#19d3f3",
           "#FF6692",
           "#B6E880",
           "#FF97FF",
           "#FECB52"
          ],
          "font": {
           "color": "#2a3f5f"
          },
          "geo": {
           "bgcolor": "white",
           "lakecolor": "white",
           "landcolor": "#E5ECF6",
           "showlakes": true,
           "showland": true,
           "subunitcolor": "white"
          },
          "hoverlabel": {
           "align": "left"
          },
          "hovermode": "closest",
          "mapbox": {
           "style": "light"
          },
          "paper_bgcolor": "white",
          "plot_bgcolor": "#E5ECF6",
          "polar": {
           "angularaxis": {
            "gridcolor": "white",
            "linecolor": "white",
            "ticks": ""
           },
           "bgcolor": "#E5ECF6",
           "radialaxis": {
            "gridcolor": "white",
            "linecolor": "white",
            "ticks": ""
           }
          },
          "scene": {
           "xaxis": {
            "backgroundcolor": "#E5ECF6",
            "gridcolor": "white",
            "gridwidth": 2,
            "linecolor": "white",
            "showbackground": true,
            "ticks": "",
            "zerolinecolor": "white"
           },
           "yaxis": {
            "backgroundcolor": "#E5ECF6",
            "gridcolor": "white",
            "gridwidth": 2,
            "linecolor": "white",
            "showbackground": true,
            "ticks": "",
            "zerolinecolor": "white"
           },
           "zaxis": {
            "backgroundcolor": "#E5ECF6",
            "gridcolor": "white",
            "gridwidth": 2,
            "linecolor": "white",
            "showbackground": true,
            "ticks": "",
            "zerolinecolor": "white"
           }
          },
          "shapedefaults": {
           "line": {
            "color": "#2a3f5f"
           }
          },
          "ternary": {
           "aaxis": {
            "gridcolor": "white",
            "linecolor": "white",
            "ticks": ""
           },
           "baxis": {
            "gridcolor": "white",
            "linecolor": "white",
            "ticks": ""
           },
           "bgcolor": "#E5ECF6",
           "caxis": {
            "gridcolor": "white",
            "linecolor": "white",
            "ticks": ""
           }
          },
          "title": {
           "x": 0.05
          },
          "xaxis": {
           "automargin": true,
           "gridcolor": "white",
           "linecolor": "white",
           "ticks": "",
           "title": {
            "standoff": 15
           },
           "zerolinecolor": "white",
           "zerolinewidth": 2
          },
          "yaxis": {
           "automargin": true,
           "gridcolor": "white",
           "linecolor": "white",
           "ticks": "",
           "title": {
            "standoff": 15
           },
           "zerolinecolor": "white",
           "zerolinewidth": 2
          }
         }
        }
       }
      },
      "text/html": [
       "<div>                            <div id=\"0d0592cd-5104-4bb5-9745-e037be81f460\" class=\"plotly-graph-div\" style=\"height:525px; width:100%;\"></div>            <script type=\"text/javascript\">                require([\"plotly\"], function(Plotly) {                    window.PLOTLYENV=window.PLOTLYENV || {};                                    if (document.getElementById(\"0d0592cd-5104-4bb5-9745-e037be81f460\")) {                    Plotly.newPlot(                        \"0d0592cd-5104-4bb5-9745-e037be81f460\",                        [{\"hovertemplate\":\"<b>%{hovertext}</b><br><br>dislikes=%{marker.color}<br>lat=%{lat}<br>lon=%{lon}<extra></extra>\",\"hovertext\":[\"['Alsace']\",\"['Amapa']\",\"['Aquitaine']\",\"['Auvergne']\",\"['Basse Normandie']\",\"['Bourgogne']\",\"['Bretagne']\",\"['Centre']\",\"['Champagne Ardenne']\",\"['Corse']\",\"['Franche Comte']\",\"['Guadeloupe']\",\"['Guinaa']\",\"['Haute Normandie']\",\"['Ile De France']\",\"['La Reunion']\",\"['Languedoc Roussillon']\",\"['Limousin']\",\"['Lorraine']\",\"['Martinique']\",\"['Midi Pyrenees']\",\"['Moyotte']\",\"['Nord Pas De Calais']\",\"['Pays De La Loire']\",\"['Picardie']\",\"['Poitou Charentes']\",\"[\\\"Provence Alpes Cote D'azur\\\"]\",\"['Rhone Alpes']\"],\"lat\":[48.53330243,41.92706484,-12.78708901,47.48000755,14.6104118,16.24147504,46.58329226,46.98373293,47.75040448,49.65039187,45.15040814,43.51999086,48.51666262,47.08372683,4.729981302,49.93373374,45.77998212,48.34039431,43.47327537,3.9104706,49.90037661,48.68368085,50.28332481,-21.03351072,42.69998924,45.89997479,43.23329002,47.22999697],\"legendgroup\":\"\",\"lon\":[7.34998002,-51.81000065,-1.561594891,3.080008096,-1.649987428,3.166669473,-2.783303265,2.399997923,4.083357705,8.728293822,6.03000891,-61.5329989,-52.33002059,1.083334105,2.666648314,55.71281612,2.899967406,1.533332477,6.200024372,-61.08002914,0.083343464,45.27500362,2.783333698,-0.530029949,2.300004027,0.333276529,5.449992634,6.116670287],\"marker\":{\"color\":[358889,364431,344750,324462,322940,309963,319727,342503,347518,351447,381268,335851,318855,339894,334422,309019,329515,358982,330353,314182,358511,351339,343560,375815,353295,303480,391752,377134],\"coloraxis\":\"coloraxis\",\"size\":[358889,364431,344750,324462,322940,309963,319727,342503,347518,351447,381268,335851,318855,339894,334422,309019,329515,358982,330353,314182,358511,351339,343560,375815,353295,303480,391752,377134],\"sizemode\":\"area\",\"sizeref\":979.38},\"mode\":\"markers\",\"name\":\"\",\"showlegend\":false,\"subplot\":\"mapbox\",\"type\":\"scattermapbox\"}],                        {\"coloraxis\":{\"colorbar\":{\"title\":{\"text\":\"dislikes\"}},\"colorscale\":[[0.0,\"#000004\"],[0.1111111111111111,\"#1b0c41\"],[0.2222222222222222,\"#4a0c6b\"],[0.3333333333333333,\"#781c6d\"],[0.4444444444444444,\"#a52c60\"],[0.5555555555555556,\"#cf4446\"],[0.6666666666666666,\"#ed6925\"],[0.7777777777777778,\"#fb9b06\"],[0.8888888888888888,\"#f7d13d\"],[1.0,\"#fcffa4\"]]},\"legend\":{\"itemsizing\":\"constant\",\"tracegroupgap\":0},\"mapbox\":{\"center\":{\"lat\":36.939597951857145,\"lon\":-2.3572107789642858},\"domain\":{\"x\":[0.0,1.0],\"y\":[0.0,1.0]},\"style\":\"carto-positron\",\"zoom\":10},\"margin\":{\"t\":60},\"template\":{\"data\":{\"bar\":[{\"error_x\":{\"color\":\"#2a3f5f\"},\"error_y\":{\"color\":\"#2a3f5f\"},\"marker\":{\"line\":{\"color\":\"#E5ECF6\",\"width\":0.5},\"pattern\":{\"fillmode\":\"overlay\",\"size\":10,\"solidity\":0.2}},\"type\":\"bar\"}],\"barpolar\":[{\"marker\":{\"line\":{\"color\":\"#E5ECF6\",\"width\":0.5},\"pattern\":{\"fillmode\":\"overlay\",\"size\":10,\"solidity\":0.2}},\"type\":\"barpolar\"}],\"carpet\":[{\"aaxis\":{\"endlinecolor\":\"#2a3f5f\",\"gridcolor\":\"white\",\"linecolor\":\"white\",\"minorgridcolor\":\"white\",\"startlinecolor\":\"#2a3f5f\"},\"baxis\":{\"endlinecolor\":\"#2a3f5f\",\"gridcolor\":\"white\",\"linecolor\":\"white\",\"minorgridcolor\":\"white\",\"startlinecolor\":\"#2a3f5f\"},\"type\":\"carpet\"}],\"choropleth\":[{\"colorbar\":{\"outlinewidth\":0,\"ticks\":\"\"},\"type\":\"choropleth\"}],\"contour\":[{\"colorbar\":{\"outlinewidth\":0,\"ticks\":\"\"},\"colorscale\":[[0.0,\"#0d0887\"],[0.1111111111111111,\"#46039f\"],[0.2222222222222222,\"#7201a8\"],[0.3333333333333333,\"#9c179e\"],[0.4444444444444444,\"#bd3786\"],[0.5555555555555556,\"#d8576b\"],[0.6666666666666666,\"#ed7953\"],[0.7777777777777778,\"#fb9f3a\"],[0.8888888888888888,\"#fdca26\"],[1.0,\"#f0f921\"]],\"type\":\"contour\"}],\"contourcarpet\":[{\"colorbar\":{\"outlinewidth\":0,\"ticks\":\"\"},\"type\":\"contourcarpet\"}],\"heatmap\":[{\"colorbar\":{\"outlinewidth\":0,\"ticks\":\"\"},\"colorscale\":[[0.0,\"#0d0887\"],[0.1111111111111111,\"#46039f\"],[0.2222222222222222,\"#7201a8\"],[0.3333333333333333,\"#9c179e\"],[0.4444444444444444,\"#bd3786\"],[0.5555555555555556,\"#d8576b\"],[0.6666666666666666,\"#ed7953\"],[0.7777777777777778,\"#fb9f3a\"],[0.8888888888888888,\"#fdca26\"],[1.0,\"#f0f921\"]],\"type\":\"heatmap\"}],\"heatmapgl\":[{\"colorbar\":{\"outlinewidth\":0,\"ticks\":\"\"},\"colorscale\":[[0.0,\"#0d0887\"],[0.1111111111111111,\"#46039f\"],[0.2222222222222222,\"#7201a8\"],[0.3333333333333333,\"#9c179e\"],[0.4444444444444444,\"#bd3786\"],[0.5555555555555556,\"#d8576b\"],[0.6666666666666666,\"#ed7953\"],[0.7777777777777778,\"#fb9f3a\"],[0.8888888888888888,\"#fdca26\"],[1.0,\"#f0f921\"]],\"type\":\"heatmapgl\"}],\"histogram\":[{\"marker\":{\"pattern\":{\"fillmode\":\"overlay\",\"size\":10,\"solidity\":0.2}},\"type\":\"histogram\"}],\"histogram2d\":[{\"colorbar\":{\"outlinewidth\":0,\"ticks\":\"\"},\"colorscale\":[[0.0,\"#0d0887\"],[0.1111111111111111,\"#46039f\"],[0.2222222222222222,\"#7201a8\"],[0.3333333333333333,\"#9c179e\"],[0.4444444444444444,\"#bd3786\"],[0.5555555555555556,\"#d8576b\"],[0.6666666666666666,\"#ed7953\"],[0.7777777777777778,\"#fb9f3a\"],[0.8888888888888888,\"#fdca26\"],[1.0,\"#f0f921\"]],\"type\":\"histogram2d\"}],\"histogram2dcontour\":[{\"colorbar\":{\"outlinewidth\":0,\"ticks\":\"\"},\"colorscale\":[[0.0,\"#0d0887\"],[0.1111111111111111,\"#46039f\"],[0.2222222222222222,\"#7201a8\"],[0.3333333333333333,\"#9c179e\"],[0.4444444444444444,\"#bd3786\"],[0.5555555555555556,\"#d8576b\"],[0.6666666666666666,\"#ed7953\"],[0.7777777777777778,\"#fb9f3a\"],[0.8888888888888888,\"#fdca26\"],[1.0,\"#f0f921\"]],\"type\":\"histogram2dcontour\"}],\"mesh3d\":[{\"colorbar\":{\"outlinewidth\":0,\"ticks\":\"\"},\"type\":\"mesh3d\"}],\"parcoords\":[{\"line\":{\"colorbar\":{\"outlinewidth\":0,\"ticks\":\"\"}},\"type\":\"parcoords\"}],\"pie\":[{\"automargin\":true,\"type\":\"pie\"}],\"scatter\":[{\"marker\":{\"colorbar\":{\"outlinewidth\":0,\"ticks\":\"\"}},\"type\":\"scatter\"}],\"scatter3d\":[{\"line\":{\"colorbar\":{\"outlinewidth\":0,\"ticks\":\"\"}},\"marker\":{\"colorbar\":{\"outlinewidth\":0,\"ticks\":\"\"}},\"type\":\"scatter3d\"}],\"scattercarpet\":[{\"marker\":{\"colorbar\":{\"outlinewidth\":0,\"ticks\":\"\"}},\"type\":\"scattercarpet\"}],\"scattergeo\":[{\"marker\":{\"colorbar\":{\"outlinewidth\":0,\"ticks\":\"\"}},\"type\":\"scattergeo\"}],\"scattergl\":[{\"marker\":{\"colorbar\":{\"outlinewidth\":0,\"ticks\":\"\"}},\"type\":\"scattergl\"}],\"scattermapbox\":[{\"marker\":{\"colorbar\":{\"outlinewidth\":0,\"ticks\":\"\"}},\"type\":\"scattermapbox\"}],\"scatterpolar\":[{\"marker\":{\"colorbar\":{\"outlinewidth\":0,\"ticks\":\"\"}},\"type\":\"scatterpolar\"}],\"scatterpolargl\":[{\"marker\":{\"colorbar\":{\"outlinewidth\":0,\"ticks\":\"\"}},\"type\":\"scatterpolargl\"}],\"scatterternary\":[{\"marker\":{\"colorbar\":{\"outlinewidth\":0,\"ticks\":\"\"}},\"type\":\"scatterternary\"}],\"surface\":[{\"colorbar\":{\"outlinewidth\":0,\"ticks\":\"\"},\"colorscale\":[[0.0,\"#0d0887\"],[0.1111111111111111,\"#46039f\"],[0.2222222222222222,\"#7201a8\"],[0.3333333333333333,\"#9c179e\"],[0.4444444444444444,\"#bd3786\"],[0.5555555555555556,\"#d8576b\"],[0.6666666666666666,\"#ed7953\"],[0.7777777777777778,\"#fb9f3a\"],[0.8888888888888888,\"#fdca26\"],[1.0,\"#f0f921\"]],\"type\":\"surface\"}],\"table\":[{\"cells\":{\"fill\":{\"color\":\"#EBF0F8\"},\"line\":{\"color\":\"white\"}},\"header\":{\"fill\":{\"color\":\"#C8D4E3\"},\"line\":{\"color\":\"white\"}},\"type\":\"table\"}]},\"layout\":{\"annotationdefaults\":{\"arrowcolor\":\"#2a3f5f\",\"arrowhead\":0,\"arrowwidth\":1},\"autotypenumbers\":\"strict\",\"coloraxis\":{\"colorbar\":{\"outlinewidth\":0,\"ticks\":\"\"}},\"colorscale\":{\"diverging\":[[0,\"#8e0152\"],[0.1,\"#c51b7d\"],[0.2,\"#de77ae\"],[0.3,\"#f1b6da\"],[0.4,\"#fde0ef\"],[0.5,\"#f7f7f7\"],[0.6,\"#e6f5d0\"],[0.7,\"#b8e186\"],[0.8,\"#7fbc41\"],[0.9,\"#4d9221\"],[1,\"#276419\"]],\"sequential\":[[0.0,\"#0d0887\"],[0.1111111111111111,\"#46039f\"],[0.2222222222222222,\"#7201a8\"],[0.3333333333333333,\"#9c179e\"],[0.4444444444444444,\"#bd3786\"],[0.5555555555555556,\"#d8576b\"],[0.6666666666666666,\"#ed7953\"],[0.7777777777777778,\"#fb9f3a\"],[0.8888888888888888,\"#fdca26\"],[1.0,\"#f0f921\"]],\"sequentialminus\":[[0.0,\"#0d0887\"],[0.1111111111111111,\"#46039f\"],[0.2222222222222222,\"#7201a8\"],[0.3333333333333333,\"#9c179e\"],[0.4444444444444444,\"#bd3786\"],[0.5555555555555556,\"#d8576b\"],[0.6666666666666666,\"#ed7953\"],[0.7777777777777778,\"#fb9f3a\"],[0.8888888888888888,\"#fdca26\"],[1.0,\"#f0f921\"]]},\"colorway\":[\"#636efa\",\"#EF553B\",\"#00cc96\",\"#ab63fa\",\"#FFA15A\",\"#19d3f3\",\"#FF6692\",\"#B6E880\",\"#FF97FF\",\"#FECB52\"],\"font\":{\"color\":\"#2a3f5f\"},\"geo\":{\"bgcolor\":\"white\",\"lakecolor\":\"white\",\"landcolor\":\"#E5ECF6\",\"showlakes\":true,\"showland\":true,\"subunitcolor\":\"white\"},\"hoverlabel\":{\"align\":\"left\"},\"hovermode\":\"closest\",\"mapbox\":{\"style\":\"light\"},\"paper_bgcolor\":\"white\",\"plot_bgcolor\":\"#E5ECF6\",\"polar\":{\"angularaxis\":{\"gridcolor\":\"white\",\"linecolor\":\"white\",\"ticks\":\"\"},\"bgcolor\":\"#E5ECF6\",\"radialaxis\":{\"gridcolor\":\"white\",\"linecolor\":\"white\",\"ticks\":\"\"}},\"scene\":{\"xaxis\":{\"backgroundcolor\":\"#E5ECF6\",\"gridcolor\":\"white\",\"gridwidth\":2,\"linecolor\":\"white\",\"showbackground\":true,\"ticks\":\"\",\"zerolinecolor\":\"white\"},\"yaxis\":{\"backgroundcolor\":\"#E5ECF6\",\"gridcolor\":\"white\",\"gridwidth\":2,\"linecolor\":\"white\",\"showbackground\":true,\"ticks\":\"\",\"zerolinecolor\":\"white\"},\"zaxis\":{\"backgroundcolor\":\"#E5ECF6\",\"gridcolor\":\"white\",\"gridwidth\":2,\"linecolor\":\"white\",\"showbackground\":true,\"ticks\":\"\",\"zerolinecolor\":\"white\"}},\"shapedefaults\":{\"line\":{\"color\":\"#2a3f5f\"}},\"ternary\":{\"aaxis\":{\"gridcolor\":\"white\",\"linecolor\":\"white\",\"ticks\":\"\"},\"baxis\":{\"gridcolor\":\"white\",\"linecolor\":\"white\",\"ticks\":\"\"},\"bgcolor\":\"#E5ECF6\",\"caxis\":{\"gridcolor\":\"white\",\"linecolor\":\"white\",\"ticks\":\"\"}},\"title\":{\"x\":0.05},\"xaxis\":{\"automargin\":true,\"gridcolor\":\"white\",\"linecolor\":\"white\",\"ticks\":\"\",\"title\":{\"standoff\":15},\"zerolinecolor\":\"white\",\"zerolinewidth\":2},\"yaxis\":{\"automargin\":true,\"gridcolor\":\"white\",\"linecolor\":\"white\",\"ticks\":\"\",\"title\":{\"standoff\":15},\"zerolinecolor\":\"white\",\"zerolinewidth\":2}}}},                        {\"responsive\": true}                    ).then(function(){\n",
       "                            \n",
       "var gd = document.getElementById('0d0592cd-5104-4bb5-9745-e037be81f460');\n",
       "var x = new MutationObserver(function (mutations, observer) {{\n",
       "        var display = window.getComputedStyle(gd).display;\n",
       "        if (!display || display === 'none') {{\n",
       "            console.log([gd, 'removed!']);\n",
       "            Plotly.purge(gd);\n",
       "            observer.disconnect();\n",
       "        }}\n",
       "}});\n",
       "\n",
       "// Listen for the removal of the full notebook cells\n",
       "var notebookContainer = gd.closest('#notebook-container');\n",
       "if (notebookContainer) {{\n",
       "    x.observe(notebookContainer, {childList: true});\n",
       "}}\n",
       "\n",
       "// Listen for the clearing of the current output cell\n",
       "var outputEl = gd.closest('.output');\n",
       "if (outputEl) {{\n",
       "    x.observe(outputEl, {childList: true});\n",
       "}}\n",
       "\n",
       "                        })                };                });            </script>        </div>"
      ]
     },
     "metadata": {},
     "output_type": "display_data"
    }
   ],
   "source": [
    "fig = px.scatter_mapbox(\n",
    "    FrL,\n",
    "    lat='lat',\n",
    "    lon='lon',\n",
    "    color ='dislikes',\n",
    "    color_continuous_scale = 'Inferno',\n",
    "    hover_name='state',\n",
    "    zoom=10,\n",
    "    size=\"dislikes\",\n",
    "    mapbox_style=\"carto-positron\"\n",
    "    #radius = 5, \n",
    ")\n",
    "\n",
    "fig.show()"
   ]
  },
  {
   "cell_type": "markdown",
   "metadata": {},
   "source": [
    "11\tÎle-de-France ......\n",
    "21\tChampagne-Ardenne\n",
    "22\tPicardie\n",
    "23\tHaute-Normandie\n",
    "24\tCentre\n",
    "25\tBasse-Normandie\n",
    "26\tBourgogne\n",
    "31\tNord-Pas-de-Calais\n",
    "41\tLorraine\n",
    "42\tAlsace\n",
    "43\tFranche-Comté\n",
    "52\tPays-de-la-Loire\n",
    "53\tBretagne\n",
    "54\tPoitou-Charentes\n",
    "72\tAquitaine\n",
    "73\tMidi-Pyrénées..........\n",
    "74\tLimousin\n",
    "82\tRhône-Alpes.......\n",
    "83\tAuvergne\n",
    "91\tLanguedoc-Roussillon\n",
    "93\tProvence-Alpes-Côte d’Azur....\n",
    "94\tCorse\n",
    "01\tGuadeloupe\n",
    "02\tMartinique\n",
    "03\tGuyane\n",
    "04\tRéunion\n",
    "05\tSaint Pierre et Miquelon\n",
    "06\tMayotte"
   ]
  }
 ],
 "metadata": {
  "colab": {
   "name": "TF - Por la Geografia del País.ipynb",
   "provenance": []
  },
  "kernelspec": {
   "display_name": "Python 3 (ipykernel)",
   "language": "python",
   "name": "python3"
  },
  "language_info": {
   "codemirror_mode": {
    "name": "ipython",
    "version": 3
   },
   "file_extension": ".py",
   "mimetype": "text/x-python",
   "name": "python",
   "nbconvert_exporter": "python",
   "pygments_lexer": "ipython3",
   "version": "3.9.5"
  }
 },
 "nbformat": 4,
 "nbformat_minor": 1
}
